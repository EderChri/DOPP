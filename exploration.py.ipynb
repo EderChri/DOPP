{
 "cells": [
  {
   "cell_type": "code",
   "execution_count": 57,
   "metadata": {
    "collapsed": true
   },
   "outputs": [],
   "source": [
    "import pandas as pd\n",
    "import geopy.distance"
   ]
  },
  {
   "cell_type": "code",
   "execution_count": 61,
   "outputs": [
    {
     "data": {
      "text/plain": "   objectid                              name           latitude  \\\n0    436059              Sigmund Freud Museum  48.21869354516781   \n1    436060                Technisches Museum   48.1909187099549   \n2    436061            Wien Museum Karlsplatz  48.19925219338192   \n3    436062  Wagner:Werk Museum Postsparkasse  48.20997976936334   \n4    436063                    Palais Epstein  48.20656531674478   \n\n            longitude  \n0   16.36299908389642  \n1   16.31790543758023  \n2  16.372965687537953  \n3    16.3811108370231  \n4  16.359629184319658  ",
      "text/html": "<div>\n<style scoped>\n    .dataframe tbody tr th:only-of-type {\n        vertical-align: middle;\n    }\n\n    .dataframe tbody tr th {\n        vertical-align: top;\n    }\n\n    .dataframe thead th {\n        text-align: right;\n    }\n</style>\n<table border=\"1\" class=\"dataframe\">\n  <thead>\n    <tr style=\"text-align: right;\">\n      <th></th>\n      <th>objectid</th>\n      <th>name</th>\n      <th>latitude</th>\n      <th>longitude</th>\n    </tr>\n  </thead>\n  <tbody>\n    <tr>\n      <th>0</th>\n      <td>436059</td>\n      <td>Sigmund Freud Museum</td>\n      <td>48.21869354516781</td>\n      <td>16.36299908389642</td>\n    </tr>\n    <tr>\n      <th>1</th>\n      <td>436060</td>\n      <td>Technisches Museum</td>\n      <td>48.1909187099549</td>\n      <td>16.31790543758023</td>\n    </tr>\n    <tr>\n      <th>2</th>\n      <td>436061</td>\n      <td>Wien Museum Karlsplatz</td>\n      <td>48.19925219338192</td>\n      <td>16.372965687537953</td>\n    </tr>\n    <tr>\n      <th>3</th>\n      <td>436062</td>\n      <td>Wagner:Werk Museum Postsparkasse</td>\n      <td>48.20997976936334</td>\n      <td>16.3811108370231</td>\n    </tr>\n    <tr>\n      <th>4</th>\n      <td>436063</td>\n      <td>Palais Epstein</td>\n      <td>48.20656531674478</td>\n      <td>16.359629184319658</td>\n    </tr>\n  </tbody>\n</table>\n</div>"
     },
     "execution_count": 61,
     "metadata": {},
     "output_type": "execute_result"
    }
   ],
   "source": [
    "listings = pd.read_csv(\"data/listings.csv\")\n",
    "\n",
    "listings_cleaned = listings[[\"id\", \"name\", \"neighbourhood_cleansed\", \"latitude\", \"longitude\", \"property_type\",\n",
    "                             \"room_type\", \"accommodates\", \"bedrooms\", \"price\",\"number_of_reviews\",\n",
    "                             \"review_scores_rating\", \"review_scores_location\", \"reviews_per_month\"]]\n",
    "listings_cleaned.head()\n",
    "\n",
    "poi = pd.read_csv(\"data/SEHENSWUERDIGOGD.csv\")\n",
    "poi['SHAPE'] = poi['SHAPE'].apply(lambda x: str(x).split('(')[1]\n",
    "                                                          .split(')')[0]\n",
    "                                                         .split(' '))\n",
    "poi['longitude'] = poi['SHAPE'].apply(lambda x: x[0])\n",
    "poi['latitude'] = poi['SHAPE'].apply(lambda x: x[1])\n",
    "poi_cleaned = poi[['OBJECTID', 'NAME', 'latitude', 'longitude']].copy()\n",
    "poi_cleaned.rename(columns={'OBJECTID':'objectid', 'NAME':'name'}, inplace=True)\n",
    "poi_cleaned.head()"
   ],
   "metadata": {
    "collapsed": false,
    "pycharm": {
     "name": "#%%\n"
    }
   }
  },
  {
   "cell_type": "code",
   "execution_count": 62,
   "outputs": [
    {
     "data": {
      "text/plain": "       id                                               name  \\\n0   15883                          b&b near Old Danube river   \n1   38768   central cityapartement- wifi- nice neighbourhood   \n2   40625                     Near Palace Schönbrunn, Apt. 1   \n3  392757    VCA3  Palais Brambilla - studio with city views   \n4   51287  little studio- next to citycenter- wifi- nice ...   \n\n  neighbourhood_cleansed  latitude  longitude              property_type  \\\n0             Donaustadt  48.24262   16.42767  Room in bed and breakfast   \n1           Leopoldstadt  48.21924   16.37831         Entire rental unit   \n2   Rudolfsheim-Fnfhaus  48.18434   16.32701         Entire rental unit   \n3           Innere Stadt  48.21496   16.37161         Entire rental unit   \n4           Leopoldstadt  48.21778   16.37847         Entire rental unit   \n\n         room_type  accommodates  bedrooms    price  number_of_reviews  \\\n0       Hotel room             3       1.0  $110.00                 14   \n1  Entire home/apt             5       1.0   $69.00                350   \n2  Entire home/apt             6       2.0  $145.00                181   \n3  Entire home/apt             2       1.0  $100.00                100   \n4  Entire home/apt             3       NaN   $68.00                347   \n\n   review_scores_rating  review_scores_location  reviews_per_month  \n0                  4.71                    4.71               0.15  \n1                  4.75                    4.75               2.50  \n2                  4.83                    4.59               1.23  \n3                  4.64                    4.89               0.79  \n4                  4.65                    4.86               2.45  ",
      "text/html": "<div>\n<style scoped>\n    .dataframe tbody tr th:only-of-type {\n        vertical-align: middle;\n    }\n\n    .dataframe tbody tr th {\n        vertical-align: top;\n    }\n\n    .dataframe thead th {\n        text-align: right;\n    }\n</style>\n<table border=\"1\" class=\"dataframe\">\n  <thead>\n    <tr style=\"text-align: right;\">\n      <th></th>\n      <th>id</th>\n      <th>name</th>\n      <th>neighbourhood_cleansed</th>\n      <th>latitude</th>\n      <th>longitude</th>\n      <th>property_type</th>\n      <th>room_type</th>\n      <th>accommodates</th>\n      <th>bedrooms</th>\n      <th>price</th>\n      <th>number_of_reviews</th>\n      <th>review_scores_rating</th>\n      <th>review_scores_location</th>\n      <th>reviews_per_month</th>\n    </tr>\n  </thead>\n  <tbody>\n    <tr>\n      <th>0</th>\n      <td>15883</td>\n      <td>b&amp;b near Old Danube river</td>\n      <td>Donaustadt</td>\n      <td>48.24262</td>\n      <td>16.42767</td>\n      <td>Room in bed and breakfast</td>\n      <td>Hotel room</td>\n      <td>3</td>\n      <td>1.0</td>\n      <td>$110.00</td>\n      <td>14</td>\n      <td>4.71</td>\n      <td>4.71</td>\n      <td>0.15</td>\n    </tr>\n    <tr>\n      <th>1</th>\n      <td>38768</td>\n      <td>central cityapartement- wifi- nice neighbourhood</td>\n      <td>Leopoldstadt</td>\n      <td>48.21924</td>\n      <td>16.37831</td>\n      <td>Entire rental unit</td>\n      <td>Entire home/apt</td>\n      <td>5</td>\n      <td>1.0</td>\n      <td>$69.00</td>\n      <td>350</td>\n      <td>4.75</td>\n      <td>4.75</td>\n      <td>2.50</td>\n    </tr>\n    <tr>\n      <th>2</th>\n      <td>40625</td>\n      <td>Near Palace Schönbrunn, Apt. 1</td>\n      <td>Rudolfsheim-Fnfhaus</td>\n      <td>48.18434</td>\n      <td>16.32701</td>\n      <td>Entire rental unit</td>\n      <td>Entire home/apt</td>\n      <td>6</td>\n      <td>2.0</td>\n      <td>$145.00</td>\n      <td>181</td>\n      <td>4.83</td>\n      <td>4.59</td>\n      <td>1.23</td>\n    </tr>\n    <tr>\n      <th>3</th>\n      <td>392757</td>\n      <td>VCA3  Palais Brambilla - studio with city views</td>\n      <td>Innere Stadt</td>\n      <td>48.21496</td>\n      <td>16.37161</td>\n      <td>Entire rental unit</td>\n      <td>Entire home/apt</td>\n      <td>2</td>\n      <td>1.0</td>\n      <td>$100.00</td>\n      <td>100</td>\n      <td>4.64</td>\n      <td>4.89</td>\n      <td>0.79</td>\n    </tr>\n    <tr>\n      <th>4</th>\n      <td>51287</td>\n      <td>little studio- next to citycenter- wifi- nice ...</td>\n      <td>Leopoldstadt</td>\n      <td>48.21778</td>\n      <td>16.37847</td>\n      <td>Entire rental unit</td>\n      <td>Entire home/apt</td>\n      <td>3</td>\n      <td>NaN</td>\n      <td>$68.00</td>\n      <td>347</td>\n      <td>4.65</td>\n      <td>4.86</td>\n      <td>2.45</td>\n    </tr>\n  </tbody>\n</table>\n</div>"
     },
     "execution_count": 62,
     "metadata": {},
     "output_type": "execute_result"
    }
   ],
   "source": [
    "listings_cleaned.head()"
   ],
   "metadata": {
    "collapsed": false,
    "pycharm": {
     "name": "#%%\n"
    }
   }
  },
  {
   "cell_type": "code",
   "execution_count": 83,
   "outputs": [
    {
     "data": {
      "text/plain": "   objectid              name_poi       latitude_poi      longitude_poi  \\\n0    436059  Sigmund Freud Museum  48.21869354516781  16.36299908389642   \n1    436059  Sigmund Freud Museum  48.21869354516781  16.36299908389642   \n2    436059  Sigmund Freud Museum  48.21869354516781  16.36299908389642   \n3    436059  Sigmund Freud Museum  48.21869354516781  16.36299908389642   \n4    436059  Sigmund Freud Museum  48.21869354516781  16.36299908389642   \n\n       id                                       name_listing  \\\n0   15883                          b&b near Old Danube river   \n1   38768   central cityapartement- wifi- nice neighbourhood   \n2   40625                     Near Palace Schönbrunn, Apt. 1   \n3  392757    VCA3  Palais Brambilla - studio with city views   \n4   51287  little studio- next to citycenter- wifi- nice ...   \n\n  neighbourhood_cleansed  latitude_listing  longitude_listing  \\\n0             Donaustadt          48.24262           16.42767   \n1           Leopoldstadt          48.21924           16.37831   \n2   Rudolfsheim-Fnfhaus          48.18434           16.32701   \n3           Innere Stadt          48.21496           16.37161   \n4           Leopoldstadt          48.21778           16.37847   \n\n               property_type        room_type  accommodates  bedrooms  \\\n0  Room in bed and breakfast       Hotel room             3       1.0   \n1         Entire rental unit  Entire home/apt             5       1.0   \n2         Entire rental unit  Entire home/apt             6       2.0   \n3         Entire rental unit  Entire home/apt             2       1.0   \n4         Entire rental unit  Entire home/apt             3       NaN   \n\n     price  number_of_reviews  review_scores_rating  review_scores_location  \\\n0  $110.00                 14                  4.71                    4.71   \n1   $69.00                350                  4.75                    4.75   \n2  $145.00                181                  4.83                    4.59   \n3  $100.00                100                  4.64                    4.89   \n4   $68.00                347                  4.65                    4.86   \n\n   reviews_per_month  distance  \n0               0.15  7.599359  \n1               2.50  1.695350  \n2               1.23  5.416173  \n3               0.79  1.033022  \n4               2.45  1.714831  ",
      "text/html": "<div>\n<style scoped>\n    .dataframe tbody tr th:only-of-type {\n        vertical-align: middle;\n    }\n\n    .dataframe tbody tr th {\n        vertical-align: top;\n    }\n\n    .dataframe thead th {\n        text-align: right;\n    }\n</style>\n<table border=\"1\" class=\"dataframe\">\n  <thead>\n    <tr style=\"text-align: right;\">\n      <th></th>\n      <th>objectid</th>\n      <th>name_poi</th>\n      <th>latitude_poi</th>\n      <th>longitude_poi</th>\n      <th>id</th>\n      <th>name_listing</th>\n      <th>neighbourhood_cleansed</th>\n      <th>latitude_listing</th>\n      <th>longitude_listing</th>\n      <th>property_type</th>\n      <th>room_type</th>\n      <th>accommodates</th>\n      <th>bedrooms</th>\n      <th>price</th>\n      <th>number_of_reviews</th>\n      <th>review_scores_rating</th>\n      <th>review_scores_location</th>\n      <th>reviews_per_month</th>\n      <th>distance</th>\n    </tr>\n  </thead>\n  <tbody>\n    <tr>\n      <th>0</th>\n      <td>436059</td>\n      <td>Sigmund Freud Museum</td>\n      <td>48.21869354516781</td>\n      <td>16.36299908389642</td>\n      <td>15883</td>\n      <td>b&amp;b near Old Danube river</td>\n      <td>Donaustadt</td>\n      <td>48.24262</td>\n      <td>16.42767</td>\n      <td>Room in bed and breakfast</td>\n      <td>Hotel room</td>\n      <td>3</td>\n      <td>1.0</td>\n      <td>$110.00</td>\n      <td>14</td>\n      <td>4.71</td>\n      <td>4.71</td>\n      <td>0.15</td>\n      <td>7.599359</td>\n    </tr>\n    <tr>\n      <th>1</th>\n      <td>436059</td>\n      <td>Sigmund Freud Museum</td>\n      <td>48.21869354516781</td>\n      <td>16.36299908389642</td>\n      <td>38768</td>\n      <td>central cityapartement- wifi- nice neighbourhood</td>\n      <td>Leopoldstadt</td>\n      <td>48.21924</td>\n      <td>16.37831</td>\n      <td>Entire rental unit</td>\n      <td>Entire home/apt</td>\n      <td>5</td>\n      <td>1.0</td>\n      <td>$69.00</td>\n      <td>350</td>\n      <td>4.75</td>\n      <td>4.75</td>\n      <td>2.50</td>\n      <td>1.695350</td>\n    </tr>\n    <tr>\n      <th>2</th>\n      <td>436059</td>\n      <td>Sigmund Freud Museum</td>\n      <td>48.21869354516781</td>\n      <td>16.36299908389642</td>\n      <td>40625</td>\n      <td>Near Palace Schönbrunn, Apt. 1</td>\n      <td>Rudolfsheim-Fnfhaus</td>\n      <td>48.18434</td>\n      <td>16.32701</td>\n      <td>Entire rental unit</td>\n      <td>Entire home/apt</td>\n      <td>6</td>\n      <td>2.0</td>\n      <td>$145.00</td>\n      <td>181</td>\n      <td>4.83</td>\n      <td>4.59</td>\n      <td>1.23</td>\n      <td>5.416173</td>\n    </tr>\n    <tr>\n      <th>3</th>\n      <td>436059</td>\n      <td>Sigmund Freud Museum</td>\n      <td>48.21869354516781</td>\n      <td>16.36299908389642</td>\n      <td>392757</td>\n      <td>VCA3  Palais Brambilla - studio with city views</td>\n      <td>Innere Stadt</td>\n      <td>48.21496</td>\n      <td>16.37161</td>\n      <td>Entire rental unit</td>\n      <td>Entire home/apt</td>\n      <td>2</td>\n      <td>1.0</td>\n      <td>$100.00</td>\n      <td>100</td>\n      <td>4.64</td>\n      <td>4.89</td>\n      <td>0.79</td>\n      <td>1.033022</td>\n    </tr>\n    <tr>\n      <th>4</th>\n      <td>436059</td>\n      <td>Sigmund Freud Museum</td>\n      <td>48.21869354516781</td>\n      <td>16.36299908389642</td>\n      <td>51287</td>\n      <td>little studio- next to citycenter- wifi- nice ...</td>\n      <td>Leopoldstadt</td>\n      <td>48.21778</td>\n      <td>16.37847</td>\n      <td>Entire rental unit</td>\n      <td>Entire home/apt</td>\n      <td>3</td>\n      <td>NaN</td>\n      <td>$68.00</td>\n      <td>347</td>\n      <td>4.65</td>\n      <td>4.86</td>\n      <td>2.45</td>\n      <td>1.714831</td>\n    </tr>\n  </tbody>\n</table>\n</div>"
     },
     "execution_count": 83,
     "metadata": {},
     "output_type": "execute_result"
    }
   ],
   "source": [
    "joined_df = poi_cleaned.join(listings_cleaned, how=\"cross\", lsuffix=\"_poi\", rsuffix=\"_listing\")\n",
    "\n",
    "joined_df['distance'] = joined_df.apply(lambda x: geopy.distance.geodesic((x['longitude_poi'], x['latitude_poi']),\n",
    "                                                (x['longitude_listing'], x['latitude_listing'])).km, axis=1)\n",
    "joined_df.head()"
   ],
   "metadata": {
    "collapsed": false,
    "pycharm": {
     "name": "#%%\n"
    }
   }
  },
  {
   "cell_type": "code",
   "execution_count": 79,
   "outputs": [],
   "source": [],
   "metadata": {
    "collapsed": false,
    "pycharm": {
     "name": "#%%\n"
    }
   }
  },
  {
   "cell_type": "code",
   "execution_count": null,
   "outputs": [],
   "source": [],
   "metadata": {
    "collapsed": false,
    "pycharm": {
     "name": "#%%\n"
    }
   }
  }
 ],
 "metadata": {
  "kernelspec": {
   "display_name": "Python 3",
   "language": "python",
   "name": "python3"
  },
  "language_info": {
   "codemirror_mode": {
    "name": "ipython",
    "version": 2
   },
   "file_extension": ".py",
   "mimetype": "text/x-python",
   "name": "python",
   "nbconvert_exporter": "python",
   "pygments_lexer": "ipython2",
   "version": "2.7.6"
  }
 },
 "nbformat": 4,
 "nbformat_minor": 0
}