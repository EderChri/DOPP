{
 "cells": [
  {
   "cell_type": "markdown",
   "metadata": {
    "collapsed": true
   },
   "source": [
    "### Necessary libraries"
   ]
  },
  {
   "cell_type": "code",
   "execution_count": 17,
   "metadata": {},
   "outputs": [
    {
     "ename": "ModuleNotFoundError",
     "evalue": "No module named 'matplotlib'",
     "output_type": "error",
     "traceback": [
      "\u001B[1;31m---------------------------------------------------------------------------\u001B[0m",
      "\u001B[1;31mModuleNotFoundError\u001B[0m                       Traceback (most recent call last)",
      "Cell \u001B[1;32mIn[17], line 4\u001B[0m\n\u001B[0;32m      2\u001B[0m \u001B[38;5;28;01mimport\u001B[39;00m \u001B[38;5;21;01mgeopy\u001B[39;00m\u001B[38;5;21;01m.\u001B[39;00m\u001B[38;5;21;01mdistance\u001B[39;00m\n\u001B[0;32m      3\u001B[0m \u001B[38;5;28;01mimport\u001B[39;00m \u001B[38;5;21;01mnumpy\u001B[39;00m \u001B[38;5;28;01mas\u001B[39;00m \u001B[38;5;21;01mnp\u001B[39;00m\n\u001B[1;32m----> 4\u001B[0m \u001B[38;5;28;01mimport\u001B[39;00m \u001B[38;5;21;01mmatplotlib\u001B[39;00m\u001B[38;5;21;01m.\u001B[39;00m\u001B[38;5;21;01mpyplot\u001B[39;00m \u001B[38;5;28;01mas\u001B[39;00m \u001B[38;5;21;01mplt\u001B[39;00m\n",
      "\u001B[1;31mModuleNotFoundError\u001B[0m: No module named 'matplotlib'"
     ]
    }
   ],
   "source": [
    "import pandas as pd\n",
    "import geopy.distance\n",
    "import numpy as np\n",
    "import matplotlib.pyplot as plt"
   ]
  },
  {
   "cell_type": "code",
   "execution_count": 17,
   "metadata": {},
   "outputs": [],
   "source": []
  },
  {
   "cell_type": "markdown",
   "metadata": {},
   "source": [
    "### Listings - Dataset"
   ]
  },
  {
   "cell_type": "code",
   "execution_count": 129,
   "metadata": {
    "pycharm": {
     "name": "#%%\n"
    }
   },
   "outputs": [
    {
     "data": {
      "text/plain": "       id                                               name  \\\n0   15883                          b&b near Old Danube river   \n1   38768   central cityapartement- wifi- nice neighbourhood   \n2   40625                     Near Palace Schönbrunn, Apt. 1   \n3  392757    VCA3  Palais Brambilla - studio with city views   \n4   51287  little studio- next to citycenter- wifi- nice ...   \n\n  neighbourhood_cleansed  latitude  longitude              property_type  \\\n0             Donaustadt  48.24262   16.42767  Room in bed and breakfast   \n1           Leopoldstadt  48.21924   16.37831         Entire rental unit   \n2   Rudolfsheim-Fnfhaus  48.18434   16.32701         Entire rental unit   \n3           Innere Stadt  48.21496   16.37161         Entire rental unit   \n4           Leopoldstadt  48.21778   16.37847         Entire rental unit   \n\n         room_type  accommodates  bedrooms    price  number_of_reviews  \\\n0       Hotel room             3       1.0  $110.00                 14   \n1  Entire home/apt             5       1.0   $69.00                350   \n2  Entire home/apt             6       2.0  $145.00                181   \n3  Entire home/apt             2       1.0  $100.00                100   \n4  Entire home/apt             3       NaN   $68.00                347   \n\n   review_scores_rating  review_scores_location  reviews_per_month  \n0                  4.71                    4.71               0.15  \n1                  4.75                    4.75               2.50  \n2                  4.83                    4.59               1.23  \n3                  4.64                    4.89               0.79  \n4                  4.65                    4.86               2.45  ",
      "text/html": "<div>\n<style scoped>\n    .dataframe tbody tr th:only-of-type {\n        vertical-align: middle;\n    }\n\n    .dataframe tbody tr th {\n        vertical-align: top;\n    }\n\n    .dataframe thead th {\n        text-align: right;\n    }\n</style>\n<table border=\"1\" class=\"dataframe\">\n  <thead>\n    <tr style=\"text-align: right;\">\n      <th></th>\n      <th>id</th>\n      <th>name</th>\n      <th>neighbourhood_cleansed</th>\n      <th>latitude</th>\n      <th>longitude</th>\n      <th>property_type</th>\n      <th>room_type</th>\n      <th>accommodates</th>\n      <th>bedrooms</th>\n      <th>price</th>\n      <th>number_of_reviews</th>\n      <th>review_scores_rating</th>\n      <th>review_scores_location</th>\n      <th>reviews_per_month</th>\n    </tr>\n  </thead>\n  <tbody>\n    <tr>\n      <th>0</th>\n      <td>15883</td>\n      <td>b&amp;b near Old Danube river</td>\n      <td>Donaustadt</td>\n      <td>48.24262</td>\n      <td>16.42767</td>\n      <td>Room in bed and breakfast</td>\n      <td>Hotel room</td>\n      <td>3</td>\n      <td>1.0</td>\n      <td>$110.00</td>\n      <td>14</td>\n      <td>4.71</td>\n      <td>4.71</td>\n      <td>0.15</td>\n    </tr>\n    <tr>\n      <th>1</th>\n      <td>38768</td>\n      <td>central cityapartement- wifi- nice neighbourhood</td>\n      <td>Leopoldstadt</td>\n      <td>48.21924</td>\n      <td>16.37831</td>\n      <td>Entire rental unit</td>\n      <td>Entire home/apt</td>\n      <td>5</td>\n      <td>1.0</td>\n      <td>$69.00</td>\n      <td>350</td>\n      <td>4.75</td>\n      <td>4.75</td>\n      <td>2.50</td>\n    </tr>\n    <tr>\n      <th>2</th>\n      <td>40625</td>\n      <td>Near Palace Schönbrunn, Apt. 1</td>\n      <td>Rudolfsheim-Fnfhaus</td>\n      <td>48.18434</td>\n      <td>16.32701</td>\n      <td>Entire rental unit</td>\n      <td>Entire home/apt</td>\n      <td>6</td>\n      <td>2.0</td>\n      <td>$145.00</td>\n      <td>181</td>\n      <td>4.83</td>\n      <td>4.59</td>\n      <td>1.23</td>\n    </tr>\n    <tr>\n      <th>3</th>\n      <td>392757</td>\n      <td>VCA3  Palais Brambilla - studio with city views</td>\n      <td>Innere Stadt</td>\n      <td>48.21496</td>\n      <td>16.37161</td>\n      <td>Entire rental unit</td>\n      <td>Entire home/apt</td>\n      <td>2</td>\n      <td>1.0</td>\n      <td>$100.00</td>\n      <td>100</td>\n      <td>4.64</td>\n      <td>4.89</td>\n      <td>0.79</td>\n    </tr>\n    <tr>\n      <th>4</th>\n      <td>51287</td>\n      <td>little studio- next to citycenter- wifi- nice ...</td>\n      <td>Leopoldstadt</td>\n      <td>48.21778</td>\n      <td>16.37847</td>\n      <td>Entire rental unit</td>\n      <td>Entire home/apt</td>\n      <td>3</td>\n      <td>NaN</td>\n      <td>$68.00</td>\n      <td>347</td>\n      <td>4.65</td>\n      <td>4.86</td>\n      <td>2.45</td>\n    </tr>\n  </tbody>\n</table>\n</div>"
     },
     "execution_count": 129,
     "metadata": {},
     "output_type": "execute_result"
    }
   ],
   "source": [
    "listings = pd.read_csv(\"data/listings.csv\")\n",
    "\n",
    "listings_cleaned = listings[[\"id\", \"name\", \"neighbourhood_cleansed\", \"latitude\", \"longitude\", \"property_type\",\n",
    "                             \"room_type\", \"accommodates\", \"bedrooms\", \"price\",\"number_of_reviews\",\n",
    "                             \"review_scores_rating\", \"review_scores_location\", \"reviews_per_month\"]]\n",
    "listings_cleaned.head()\n",
    "\n",
    "\n"
   ]
  },
  {
   "cell_type": "code",
   "execution_count": 130,
   "outputs": [
    {
     "name": "stderr",
     "output_type": "stream",
     "text": [
      "C:\\Users\\Locke\\AppData\\Local\\Temp\\ipykernel_17096\\1619392840.py:1: SettingWithCopyWarning: \n",
      "A value is trying to be set on a copy of a slice from a DataFrame.\n",
      "Try using .loc[row_indexer,col_indexer] = value instead\n",
      "\n",
      "See the caveats in the documentation: https://pandas.pydata.org/pandas-docs/stable/user_guide/indexing.html#returning-a-view-versus-a-copy\n",
      "  listings_cleaned.loc[:,'neighbourhood_cleansed'] = listings_cleaned.loc[:,'neighbourhood_cleansed'].apply(\n"
     ]
    },
    {
     "data": {
      "text/plain": "        id                                 name  latitude  longitude  \\\n0    15883            b&b near Old Danube river  48.24262   16.42767   \n1   813826  apartment2rent  panaroma - UNO City  48.23796   16.42418   \n2   846009  Nice, clean and perfect location Ap  48.23549   16.41152   \n3  1384870     Nice bedroom in sweet apartment!  48.22707   16.44955   \n4  3217556                   Apartment Vienna B  48.21659   16.51765   \n\n                 property_type        room_type  accommodates  bedrooms  \\\n0    Room in bed and breakfast       Hotel room             3       1.0   \n1           Entire rental unit  Entire home/apt             4       NaN   \n2                 Entire condo  Entire home/apt             3       1.0   \n3  Private room in rental unit     Private room             2       1.0   \n4           Entire rental unit  Entire home/apt             4       1.0   \n\n     price  number_of_reviews  review_scores_rating  review_scores_location  \\\n0  $110.00                 14                  4.71                    4.71   \n1   $82.00                 10                  4.80                    5.00   \n2   $60.00                 72                  4.77                    4.86   \n3   $34.00                 92                  4.60                    4.59   \n4   $76.00                 17                  4.76                    4.65   \n\n   reviews_per_month  post  \n0               0.15  1220  \n1               0.10  1220  \n2               0.61  1220  \n3               0.83  1220  \n4               0.51  1220  ",
      "text/html": "<div>\n<style scoped>\n    .dataframe tbody tr th:only-of-type {\n        vertical-align: middle;\n    }\n\n    .dataframe tbody tr th {\n        vertical-align: top;\n    }\n\n    .dataframe thead th {\n        text-align: right;\n    }\n</style>\n<table border=\"1\" class=\"dataframe\">\n  <thead>\n    <tr style=\"text-align: right;\">\n      <th></th>\n      <th>id</th>\n      <th>name</th>\n      <th>latitude</th>\n      <th>longitude</th>\n      <th>property_type</th>\n      <th>room_type</th>\n      <th>accommodates</th>\n      <th>bedrooms</th>\n      <th>price</th>\n      <th>number_of_reviews</th>\n      <th>review_scores_rating</th>\n      <th>review_scores_location</th>\n      <th>reviews_per_month</th>\n      <th>post</th>\n    </tr>\n  </thead>\n  <tbody>\n    <tr>\n      <th>0</th>\n      <td>15883</td>\n      <td>b&amp;b near Old Danube river</td>\n      <td>48.24262</td>\n      <td>16.42767</td>\n      <td>Room in bed and breakfast</td>\n      <td>Hotel room</td>\n      <td>3</td>\n      <td>1.0</td>\n      <td>$110.00</td>\n      <td>14</td>\n      <td>4.71</td>\n      <td>4.71</td>\n      <td>0.15</td>\n      <td>1220</td>\n    </tr>\n    <tr>\n      <th>1</th>\n      <td>813826</td>\n      <td>apartment2rent  panaroma - UNO City</td>\n      <td>48.23796</td>\n      <td>16.42418</td>\n      <td>Entire rental unit</td>\n      <td>Entire home/apt</td>\n      <td>4</td>\n      <td>NaN</td>\n      <td>$82.00</td>\n      <td>10</td>\n      <td>4.80</td>\n      <td>5.00</td>\n      <td>0.10</td>\n      <td>1220</td>\n    </tr>\n    <tr>\n      <th>2</th>\n      <td>846009</td>\n      <td>Nice, clean and perfect location Ap</td>\n      <td>48.23549</td>\n      <td>16.41152</td>\n      <td>Entire condo</td>\n      <td>Entire home/apt</td>\n      <td>3</td>\n      <td>1.0</td>\n      <td>$60.00</td>\n      <td>72</td>\n      <td>4.77</td>\n      <td>4.86</td>\n      <td>0.61</td>\n      <td>1220</td>\n    </tr>\n    <tr>\n      <th>3</th>\n      <td>1384870</td>\n      <td>Nice bedroom in sweet apartment!</td>\n      <td>48.22707</td>\n      <td>16.44955</td>\n      <td>Private room in rental unit</td>\n      <td>Private room</td>\n      <td>2</td>\n      <td>1.0</td>\n      <td>$34.00</td>\n      <td>92</td>\n      <td>4.60</td>\n      <td>4.59</td>\n      <td>0.83</td>\n      <td>1220</td>\n    </tr>\n    <tr>\n      <th>4</th>\n      <td>3217556</td>\n      <td>Apartment Vienna B</td>\n      <td>48.21659</td>\n      <td>16.51765</td>\n      <td>Entire rental unit</td>\n      <td>Entire home/apt</td>\n      <td>4</td>\n      <td>1.0</td>\n      <td>$76.00</td>\n      <td>17</td>\n      <td>4.76</td>\n      <td>4.65</td>\n      <td>0.51</td>\n      <td>1220</td>\n    </tr>\n  </tbody>\n</table>\n</div>"
     },
     "execution_count": 130,
     "metadata": {},
     "output_type": "execute_result"
    }
   ],
   "source": [
    "listings_cleaned.loc[:,'neighbourhood_cleansed'] = listings_cleaned.loc[:,'neighbourhood_cleansed'].apply(\n",
    "    lambda x: \"Rudolfsheim-Fünfhaus\" if str(x).__contains__(\"Rudolfsheim\") else x\n",
    ")\n",
    "listings_cleaned.head()\n",
    "mapping = pd.read_csv(\"data/district_to_post.csv\")\n",
    "merged = listings_cleaned.merge(mapping, left_on=\"neighbourhood_cleansed\", right_on=\"name\", how=\"inner\")\n",
    "merged.head()\n",
    "merged.drop([\"neighbourhood_cleansed\", \"name_y\"], inplace=True, axis=1)\n",
    "merged.rename({\"name_x\":\"name\"}, inplace=True, axis=1)\n",
    "listings_cleaned = merged"
   ],
   "metadata": {
    "collapsed": false,
    "pycharm": {
     "name": "#%%\n"
    }
   }
  },
  {
   "cell_type": "code",
   "execution_count": 131,
   "metadata": {},
   "outputs": [
    {
     "name": "stdout",
     "output_type": "stream",
     "text": [
      "<class 'pandas.core.frame.DataFrame'>\n",
      "Int64Index: 10152 entries, 0 to 10151\n",
      "Data columns (total 14 columns):\n",
      " #   Column                  Non-Null Count  Dtype  \n",
      "---  ------                  --------------  -----  \n",
      " 0   id                      10152 non-null  int64  \n",
      " 1   name                    10144 non-null  object \n",
      " 2   latitude                10152 non-null  float64\n",
      " 3   longitude               10152 non-null  float64\n",
      " 4   property_type           10152 non-null  object \n",
      " 5   room_type               10152 non-null  object \n",
      " 6   accommodates            10152 non-null  int64  \n",
      " 7   bedrooms                9137 non-null   float64\n",
      " 8   price                   10152 non-null  object \n",
      " 9   number_of_reviews       10152 non-null  int64  \n",
      " 10  review_scores_rating    8503 non-null   float64\n",
      " 11  review_scores_location  8421 non-null   float64\n",
      " 12  reviews_per_month       8503 non-null   float64\n",
      " 13  post                    10152 non-null  int64  \n",
      "dtypes: float64(6), int64(4), object(4)\n",
      "memory usage: 1.2+ MB\n"
     ]
    }
   ],
   "source": [
    "listings_cleaned.info()"
   ]
  },
  {
   "cell_type": "markdown",
   "metadata": {},
   "source": [
    "Price should be numeric, therefore we will convert it to numeric form. First, lets have a look into it:\n"
   ]
  },
  {
   "cell_type": "code",
   "execution_count": 132,
   "metadata": {},
   "outputs": [
    {
     "data": {
      "text/plain": "     price\n0  $110.00\n1   $82.00\n2   $60.00\n3   $34.00\n4   $76.00",
      "text/html": "<div>\n<style scoped>\n    .dataframe tbody tr th:only-of-type {\n        vertical-align: middle;\n    }\n\n    .dataframe tbody tr th {\n        vertical-align: top;\n    }\n\n    .dataframe thead th {\n        text-align: right;\n    }\n</style>\n<table border=\"1\" class=\"dataframe\">\n  <thead>\n    <tr style=\"text-align: right;\">\n      <th></th>\n      <th>price</th>\n    </tr>\n  </thead>\n  <tbody>\n    <tr>\n      <th>0</th>\n      <td>$110.00</td>\n    </tr>\n    <tr>\n      <th>1</th>\n      <td>$82.00</td>\n    </tr>\n    <tr>\n      <th>2</th>\n      <td>$60.00</td>\n    </tr>\n    <tr>\n      <th>3</th>\n      <td>$34.00</td>\n    </tr>\n    <tr>\n      <th>4</th>\n      <td>$76.00</td>\n    </tr>\n  </tbody>\n</table>\n</div>"
     },
     "execution_count": 132,
     "metadata": {},
     "output_type": "execute_result"
    }
   ],
   "source": [
    "listings_cleaned[['price']].head(5)"
   ]
  },
  {
   "cell_type": "markdown",
   "metadata": {},
   "source": [
    "Before converting to numeric, we will remove the currency and then do the conversion."
   ]
  },
  {
   "cell_type": "code",
   "execution_count": 133,
   "metadata": {},
   "outputs": [],
   "source": [
    "listings_cleaned['price'] = listings_cleaned['price'].str.extract('(\\d+)', expand=False)\n",
    "listings_cleaned[['price']] = listings_cleaned[['price']].apply(pd.to_numeric)"
   ]
  },
  {
   "cell_type": "markdown",
   "metadata": {},
   "source": [
    "#### Handling missing values\n",
    "\n",
    "As seen below there are some missing values in our dataset:"
   ]
  },
  {
   "cell_type": "code",
   "execution_count": 134,
   "metadata": {},
   "outputs": [
    {
     "data": {
      "text/plain": "id                           0\nname                         8\nlatitude                     0\nlongitude                    0\nproperty_type                0\nroom_type                    0\naccommodates                 0\nbedrooms                  1015\nprice                        0\nnumber_of_reviews            0\nreview_scores_rating      1649\nreview_scores_location    1731\nreviews_per_month         1649\npost                         0\ndtype: int64"
     },
     "execution_count": 134,
     "metadata": {},
     "output_type": "execute_result"
    }
   ],
   "source": [
    "listings_cleaned.isna().sum()"
   ]
  },
  {
   "cell_type": "code",
   "execution_count": 135,
   "metadata": {},
   "outputs": [
    {
     "data": {
      "text/plain": "                       id                                             name  \\\n1                  813826              apartment2rent  panaroma - UNO City   \n9                 4058386                            Apartment Vienna Loft   \n11                4781153              Room in a quiet house near the park   \n18                5623462                  Ruhige Maisonette in U-Bahnnähe   \n20                6082758                NICE APARTMENT + air conditioning   \n...                   ...                                              ...   \n10115  684612125199203188             DAREBELL Apartment Calvigasse: Top 8   \n10118  694670571352670381  Sonnige Dachgeschosswohnung mit großer Terrasse   \n10119  695565932820425184      Atmospheric Studio with Kitchen in Vienna 4   \n10131  683168261456239114                Grünruhelage nahe Wien Innenstadt   \n10145            14194630             3 Monate Single-Wohnung zu vermieten   \n\n        latitude  longitude                property_type        room_type  \\\n1      48.237960  16.424180           Entire rental unit  Entire home/apt   \n9      48.217140  16.518090                  Entire loft  Entire home/apt   \n11     48.202870  16.519740         Private room in home     Private room   \n18     48.223850  16.489930           Entire rental unit  Entire home/apt   \n20     48.227810  16.455850           Entire rental unit  Entire home/apt   \n...          ...        ...                          ...              ...   \n10115  48.140880  16.313433           Entire rental unit  Entire home/apt   \n10118  48.143623  16.308706           Entire rental unit  Entire home/apt   \n10119  48.149028  16.337260                 Entire condo  Entire home/apt   \n10131  48.131196  16.279044  Private room in rental unit     Private room   \n10145  48.139580  16.198310                 Entire condo  Entire home/apt   \n\n       accommodates  bedrooms  price  number_of_reviews  review_scores_rating  \\\n1                 4       NaN     82                 10                  4.80   \n9                 4       NaN     85                 86                  4.66   \n11                2       1.0     48                  0                   NaN   \n18                2       1.0     60                  0                   NaN   \n20                2       NaN     79                133                  4.94   \n...             ...       ...    ...                ...                   ...   \n10115             2       NaN    105                  3                  4.67   \n10118             2       1.0     60                  0                   NaN   \n10119             2       1.0     85                  0                   NaN   \n10131             2       1.0     50                  0                   NaN   \n10145             2       1.0    430                  0                   NaN   \n\n       review_scores_location  reviews_per_month  post  \n1                        5.00               0.10  1220  \n9                        4.58               1.00  1220  \n11                        NaN                NaN  1220  \n18                        NaN                NaN  1220  \n20                       4.64               1.49  1220  \n...                       ...                ...   ...  \n10115                    4.33               3.00  1230  \n10118                     NaN                NaN  1230  \n10119                     NaN                NaN  1230  \n10131                     NaN                NaN  1230  \n10145                     NaN                NaN  1230  \n\n[2616 rows x 14 columns]",
      "text/html": "<div>\n<style scoped>\n    .dataframe tbody tr th:only-of-type {\n        vertical-align: middle;\n    }\n\n    .dataframe tbody tr th {\n        vertical-align: top;\n    }\n\n    .dataframe thead th {\n        text-align: right;\n    }\n</style>\n<table border=\"1\" class=\"dataframe\">\n  <thead>\n    <tr style=\"text-align: right;\">\n      <th></th>\n      <th>id</th>\n      <th>name</th>\n      <th>latitude</th>\n      <th>longitude</th>\n      <th>property_type</th>\n      <th>room_type</th>\n      <th>accommodates</th>\n      <th>bedrooms</th>\n      <th>price</th>\n      <th>number_of_reviews</th>\n      <th>review_scores_rating</th>\n      <th>review_scores_location</th>\n      <th>reviews_per_month</th>\n      <th>post</th>\n    </tr>\n  </thead>\n  <tbody>\n    <tr>\n      <th>1</th>\n      <td>813826</td>\n      <td>apartment2rent  panaroma - UNO City</td>\n      <td>48.237960</td>\n      <td>16.424180</td>\n      <td>Entire rental unit</td>\n      <td>Entire home/apt</td>\n      <td>4</td>\n      <td>NaN</td>\n      <td>82</td>\n      <td>10</td>\n      <td>4.80</td>\n      <td>5.00</td>\n      <td>0.10</td>\n      <td>1220</td>\n    </tr>\n    <tr>\n      <th>9</th>\n      <td>4058386</td>\n      <td>Apartment Vienna Loft</td>\n      <td>48.217140</td>\n      <td>16.518090</td>\n      <td>Entire loft</td>\n      <td>Entire home/apt</td>\n      <td>4</td>\n      <td>NaN</td>\n      <td>85</td>\n      <td>86</td>\n      <td>4.66</td>\n      <td>4.58</td>\n      <td>1.00</td>\n      <td>1220</td>\n    </tr>\n    <tr>\n      <th>11</th>\n      <td>4781153</td>\n      <td>Room in a quiet house near the park</td>\n      <td>48.202870</td>\n      <td>16.519740</td>\n      <td>Private room in home</td>\n      <td>Private room</td>\n      <td>2</td>\n      <td>1.0</td>\n      <td>48</td>\n      <td>0</td>\n      <td>NaN</td>\n      <td>NaN</td>\n      <td>NaN</td>\n      <td>1220</td>\n    </tr>\n    <tr>\n      <th>18</th>\n      <td>5623462</td>\n      <td>Ruhige Maisonette in U-Bahnnähe</td>\n      <td>48.223850</td>\n      <td>16.489930</td>\n      <td>Entire rental unit</td>\n      <td>Entire home/apt</td>\n      <td>2</td>\n      <td>1.0</td>\n      <td>60</td>\n      <td>0</td>\n      <td>NaN</td>\n      <td>NaN</td>\n      <td>NaN</td>\n      <td>1220</td>\n    </tr>\n    <tr>\n      <th>20</th>\n      <td>6082758</td>\n      <td>NICE APARTMENT + air conditioning</td>\n      <td>48.227810</td>\n      <td>16.455850</td>\n      <td>Entire rental unit</td>\n      <td>Entire home/apt</td>\n      <td>2</td>\n      <td>NaN</td>\n      <td>79</td>\n      <td>133</td>\n      <td>4.94</td>\n      <td>4.64</td>\n      <td>1.49</td>\n      <td>1220</td>\n    </tr>\n    <tr>\n      <th>...</th>\n      <td>...</td>\n      <td>...</td>\n      <td>...</td>\n      <td>...</td>\n      <td>...</td>\n      <td>...</td>\n      <td>...</td>\n      <td>...</td>\n      <td>...</td>\n      <td>...</td>\n      <td>...</td>\n      <td>...</td>\n      <td>...</td>\n      <td>...</td>\n    </tr>\n    <tr>\n      <th>10115</th>\n      <td>684612125199203188</td>\n      <td>DAREBELL Apartment Calvigasse: Top 8</td>\n      <td>48.140880</td>\n      <td>16.313433</td>\n      <td>Entire rental unit</td>\n      <td>Entire home/apt</td>\n      <td>2</td>\n      <td>NaN</td>\n      <td>105</td>\n      <td>3</td>\n      <td>4.67</td>\n      <td>4.33</td>\n      <td>3.00</td>\n      <td>1230</td>\n    </tr>\n    <tr>\n      <th>10118</th>\n      <td>694670571352670381</td>\n      <td>Sonnige Dachgeschosswohnung mit großer Terrasse</td>\n      <td>48.143623</td>\n      <td>16.308706</td>\n      <td>Entire rental unit</td>\n      <td>Entire home/apt</td>\n      <td>2</td>\n      <td>1.0</td>\n      <td>60</td>\n      <td>0</td>\n      <td>NaN</td>\n      <td>NaN</td>\n      <td>NaN</td>\n      <td>1230</td>\n    </tr>\n    <tr>\n      <th>10119</th>\n      <td>695565932820425184</td>\n      <td>Atmospheric Studio with Kitchen in Vienna 4</td>\n      <td>48.149028</td>\n      <td>16.337260</td>\n      <td>Entire condo</td>\n      <td>Entire home/apt</td>\n      <td>2</td>\n      <td>1.0</td>\n      <td>85</td>\n      <td>0</td>\n      <td>NaN</td>\n      <td>NaN</td>\n      <td>NaN</td>\n      <td>1230</td>\n    </tr>\n    <tr>\n      <th>10131</th>\n      <td>683168261456239114</td>\n      <td>Grünruhelage nahe Wien Innenstadt</td>\n      <td>48.131196</td>\n      <td>16.279044</td>\n      <td>Private room in rental unit</td>\n      <td>Private room</td>\n      <td>2</td>\n      <td>1.0</td>\n      <td>50</td>\n      <td>0</td>\n      <td>NaN</td>\n      <td>NaN</td>\n      <td>NaN</td>\n      <td>1230</td>\n    </tr>\n    <tr>\n      <th>10145</th>\n      <td>14194630</td>\n      <td>3 Monate Single-Wohnung zu vermieten</td>\n      <td>48.139580</td>\n      <td>16.198310</td>\n      <td>Entire condo</td>\n      <td>Entire home/apt</td>\n      <td>2</td>\n      <td>1.0</td>\n      <td>430</td>\n      <td>0</td>\n      <td>NaN</td>\n      <td>NaN</td>\n      <td>NaN</td>\n      <td>1230</td>\n    </tr>\n  </tbody>\n</table>\n<p>2616 rows × 14 columns</p>\n</div>"
     },
     "execution_count": 135,
     "metadata": {},
     "output_type": "execute_result"
    }
   ],
   "source": [
    "# looking into the missing values\n",
    "listings_cleaned[listings_cleaned.isna().any(axis = 1)]"
   ]
  },
  {
   "cell_type": "code",
   "execution_count": 136,
   "metadata": {},
   "outputs": [
    {
     "data": {
      "text/plain": "                       id                                             name  \\\n11                4781153              Room in a quiet house near the park   \n18                5623462                  Ruhige Maisonette in U-Bahnnähe   \n33                8138284               Student Apartment 2 separate Rooms   \n40                9900495                     Close to underground line u2   \n42               10135734                 Маленькая однокомнатная квартира   \n...                   ...                                              ...   \n10111  640967788256740265            DAREBELL Apartment Calvigasse: Top 18   \n10118  694670571352670381  Sonnige Dachgeschosswohnung mit großer Terrasse   \n10119  695565932820425184      Atmospheric Studio with Kitchen in Vienna 4   \n10131  683168261456239114                Grünruhelage nahe Wien Innenstadt   \n10145            14194630             3 Monate Single-Wohnung zu vermieten   \n\n        latitude  longitude                property_type        room_type  \\\n11     48.202870  16.519740         Private room in home     Private room   \n18     48.223850  16.489930           Entire rental unit  Entire home/apt   \n33     48.227940  16.457430                 Entire place  Entire home/apt   \n40     48.224630  16.452860  Private room in rental unit     Private room   \n42     48.212830  16.441540           Entire rental unit  Entire home/apt   \n...          ...        ...                          ...              ...   \n10111  48.141320  16.311500           Entire rental unit  Entire home/apt   \n10118  48.143623  16.308706           Entire rental unit  Entire home/apt   \n10119  48.149028  16.337260                 Entire condo  Entire home/apt   \n10131  48.131196  16.279044  Private room in rental unit     Private room   \n10145  48.139580  16.198310                 Entire condo  Entire home/apt   \n\n       accommodates  bedrooms  price  number_of_reviews  review_scores_rating  \\\n11                2       1.0     48                  0                   NaN   \n18                2       1.0     60                  0                   NaN   \n33                2       2.0     36                  0                   NaN   \n40                1       1.0     40                  0                   NaN   \n42                1       1.0     30                  0                   NaN   \n...             ...       ...    ...                ...                   ...   \n10111             2       1.0    105                  0                   NaN   \n10118             2       1.0     60                  0                   NaN   \n10119             2       1.0     85                  0                   NaN   \n10131             2       1.0     50                  0                   NaN   \n10145             2       1.0    430                  0                   NaN   \n\n       review_scores_location  reviews_per_month  post  \n11                        NaN                NaN  1220  \n18                        NaN                NaN  1220  \n33                        NaN                NaN  1220  \n40                        NaN                NaN  1220  \n42                        NaN                NaN  1220  \n...                       ...                ...   ...  \n10111                     NaN                NaN  1230  \n10118                     NaN                NaN  1230  \n10119                     NaN                NaN  1230  \n10131                     NaN                NaN  1230  \n10145                     NaN                NaN  1230  \n\n[1649 rows x 14 columns]",
      "text/html": "<div>\n<style scoped>\n    .dataframe tbody tr th:only-of-type {\n        vertical-align: middle;\n    }\n\n    .dataframe tbody tr th {\n        vertical-align: top;\n    }\n\n    .dataframe thead th {\n        text-align: right;\n    }\n</style>\n<table border=\"1\" class=\"dataframe\">\n  <thead>\n    <tr style=\"text-align: right;\">\n      <th></th>\n      <th>id</th>\n      <th>name</th>\n      <th>latitude</th>\n      <th>longitude</th>\n      <th>property_type</th>\n      <th>room_type</th>\n      <th>accommodates</th>\n      <th>bedrooms</th>\n      <th>price</th>\n      <th>number_of_reviews</th>\n      <th>review_scores_rating</th>\n      <th>review_scores_location</th>\n      <th>reviews_per_month</th>\n      <th>post</th>\n    </tr>\n  </thead>\n  <tbody>\n    <tr>\n      <th>11</th>\n      <td>4781153</td>\n      <td>Room in a quiet house near the park</td>\n      <td>48.202870</td>\n      <td>16.519740</td>\n      <td>Private room in home</td>\n      <td>Private room</td>\n      <td>2</td>\n      <td>1.0</td>\n      <td>48</td>\n      <td>0</td>\n      <td>NaN</td>\n      <td>NaN</td>\n      <td>NaN</td>\n      <td>1220</td>\n    </tr>\n    <tr>\n      <th>18</th>\n      <td>5623462</td>\n      <td>Ruhige Maisonette in U-Bahnnähe</td>\n      <td>48.223850</td>\n      <td>16.489930</td>\n      <td>Entire rental unit</td>\n      <td>Entire home/apt</td>\n      <td>2</td>\n      <td>1.0</td>\n      <td>60</td>\n      <td>0</td>\n      <td>NaN</td>\n      <td>NaN</td>\n      <td>NaN</td>\n      <td>1220</td>\n    </tr>\n    <tr>\n      <th>33</th>\n      <td>8138284</td>\n      <td>Student Apartment 2 separate Rooms</td>\n      <td>48.227940</td>\n      <td>16.457430</td>\n      <td>Entire place</td>\n      <td>Entire home/apt</td>\n      <td>2</td>\n      <td>2.0</td>\n      <td>36</td>\n      <td>0</td>\n      <td>NaN</td>\n      <td>NaN</td>\n      <td>NaN</td>\n      <td>1220</td>\n    </tr>\n    <tr>\n      <th>40</th>\n      <td>9900495</td>\n      <td>Close to underground line u2</td>\n      <td>48.224630</td>\n      <td>16.452860</td>\n      <td>Private room in rental unit</td>\n      <td>Private room</td>\n      <td>1</td>\n      <td>1.0</td>\n      <td>40</td>\n      <td>0</td>\n      <td>NaN</td>\n      <td>NaN</td>\n      <td>NaN</td>\n      <td>1220</td>\n    </tr>\n    <tr>\n      <th>42</th>\n      <td>10135734</td>\n      <td>Маленькая однокомнатная квартира</td>\n      <td>48.212830</td>\n      <td>16.441540</td>\n      <td>Entire rental unit</td>\n      <td>Entire home/apt</td>\n      <td>1</td>\n      <td>1.0</td>\n      <td>30</td>\n      <td>0</td>\n      <td>NaN</td>\n      <td>NaN</td>\n      <td>NaN</td>\n      <td>1220</td>\n    </tr>\n    <tr>\n      <th>...</th>\n      <td>...</td>\n      <td>...</td>\n      <td>...</td>\n      <td>...</td>\n      <td>...</td>\n      <td>...</td>\n      <td>...</td>\n      <td>...</td>\n      <td>...</td>\n      <td>...</td>\n      <td>...</td>\n      <td>...</td>\n      <td>...</td>\n      <td>...</td>\n    </tr>\n    <tr>\n      <th>10111</th>\n      <td>640967788256740265</td>\n      <td>DAREBELL Apartment Calvigasse: Top 18</td>\n      <td>48.141320</td>\n      <td>16.311500</td>\n      <td>Entire rental unit</td>\n      <td>Entire home/apt</td>\n      <td>2</td>\n      <td>1.0</td>\n      <td>105</td>\n      <td>0</td>\n      <td>NaN</td>\n      <td>NaN</td>\n      <td>NaN</td>\n      <td>1230</td>\n    </tr>\n    <tr>\n      <th>10118</th>\n      <td>694670571352670381</td>\n      <td>Sonnige Dachgeschosswohnung mit großer Terrasse</td>\n      <td>48.143623</td>\n      <td>16.308706</td>\n      <td>Entire rental unit</td>\n      <td>Entire home/apt</td>\n      <td>2</td>\n      <td>1.0</td>\n      <td>60</td>\n      <td>0</td>\n      <td>NaN</td>\n      <td>NaN</td>\n      <td>NaN</td>\n      <td>1230</td>\n    </tr>\n    <tr>\n      <th>10119</th>\n      <td>695565932820425184</td>\n      <td>Atmospheric Studio with Kitchen in Vienna 4</td>\n      <td>48.149028</td>\n      <td>16.337260</td>\n      <td>Entire condo</td>\n      <td>Entire home/apt</td>\n      <td>2</td>\n      <td>1.0</td>\n      <td>85</td>\n      <td>0</td>\n      <td>NaN</td>\n      <td>NaN</td>\n      <td>NaN</td>\n      <td>1230</td>\n    </tr>\n    <tr>\n      <th>10131</th>\n      <td>683168261456239114</td>\n      <td>Grünruhelage nahe Wien Innenstadt</td>\n      <td>48.131196</td>\n      <td>16.279044</td>\n      <td>Private room in rental unit</td>\n      <td>Private room</td>\n      <td>2</td>\n      <td>1.0</td>\n      <td>50</td>\n      <td>0</td>\n      <td>NaN</td>\n      <td>NaN</td>\n      <td>NaN</td>\n      <td>1230</td>\n    </tr>\n    <tr>\n      <th>10145</th>\n      <td>14194630</td>\n      <td>3 Monate Single-Wohnung zu vermieten</td>\n      <td>48.139580</td>\n      <td>16.198310</td>\n      <td>Entire condo</td>\n      <td>Entire home/apt</td>\n      <td>2</td>\n      <td>1.0</td>\n      <td>430</td>\n      <td>0</td>\n      <td>NaN</td>\n      <td>NaN</td>\n      <td>NaN</td>\n      <td>1230</td>\n    </tr>\n  </tbody>\n</table>\n<p>1649 rows × 14 columns</p>\n</div>"
     },
     "execution_count": 136,
     "metadata": {},
     "output_type": "execute_result"
    }
   ],
   "source": [
    "# trying sth out\n",
    "\n",
    "listings_cleaned[(listings_cleaned['number_of_reviews']==0) & (listings_cleaned['review_scores_rating'].isna())]"
   ]
  },
  {
   "cell_type": "code",
   "execution_count": 137,
   "metadata": {},
   "outputs": [
    {
     "data": {
      "text/plain": "           id                                            name  latitude  \\\n59   16541320             cosy viennese apartment with garden  48.23731   \n75   19264213  Cosy Wohnung in der Nähe von  Doauinsel und UN  48.24870   \n114  22368540  Studio 8b for 2 People - free parking included  48.23993   \n176  34384502                                     Smart Sleep  48.21674   \n444   5102698                    Wohnung im Herzen der Stadt!  48.22220   \n\n     longitude       property_type        room_type  accommodates  bedrooms  \\\n59    16.46327  Entire rental unit  Entire home/apt             3       1.0   \n75    16.43463  Entire rental unit  Entire home/apt             1       NaN   \n114   16.54627        Entire condo  Entire home/apt             1       NaN   \n176   16.48274  Entire rental unit  Entire home/apt             2       1.0   \n444   16.38228  Entire rental unit  Entire home/apt             4       2.0   \n\n     price  number_of_reviews  review_scores_rating  review_scores_location  \\\n59      30                  1                   0.0                     NaN   \n75      45                  1                   0.0                     NaN   \n114     48                  1                   0.0                     NaN   \n176      1                  5                   0.0                     NaN   \n444     99                  1                   0.0                     NaN   \n\n     reviews_per_month  post  \n59                0.01  1220  \n75                0.44  1220  \n114               0.02  1220  \n176               0.12  1220  \n444               0.01  1020  ",
      "text/html": "<div>\n<style scoped>\n    .dataframe tbody tr th:only-of-type {\n        vertical-align: middle;\n    }\n\n    .dataframe tbody tr th {\n        vertical-align: top;\n    }\n\n    .dataframe thead th {\n        text-align: right;\n    }\n</style>\n<table border=\"1\" class=\"dataframe\">\n  <thead>\n    <tr style=\"text-align: right;\">\n      <th></th>\n      <th>id</th>\n      <th>name</th>\n      <th>latitude</th>\n      <th>longitude</th>\n      <th>property_type</th>\n      <th>room_type</th>\n      <th>accommodates</th>\n      <th>bedrooms</th>\n      <th>price</th>\n      <th>number_of_reviews</th>\n      <th>review_scores_rating</th>\n      <th>review_scores_location</th>\n      <th>reviews_per_month</th>\n      <th>post</th>\n    </tr>\n  </thead>\n  <tbody>\n    <tr>\n      <th>59</th>\n      <td>16541320</td>\n      <td>cosy viennese apartment with garden</td>\n      <td>48.23731</td>\n      <td>16.46327</td>\n      <td>Entire rental unit</td>\n      <td>Entire home/apt</td>\n      <td>3</td>\n      <td>1.0</td>\n      <td>30</td>\n      <td>1</td>\n      <td>0.0</td>\n      <td>NaN</td>\n      <td>0.01</td>\n      <td>1220</td>\n    </tr>\n    <tr>\n      <th>75</th>\n      <td>19264213</td>\n      <td>Cosy Wohnung in der Nähe von  Doauinsel und UN</td>\n      <td>48.24870</td>\n      <td>16.43463</td>\n      <td>Entire rental unit</td>\n      <td>Entire home/apt</td>\n      <td>1</td>\n      <td>NaN</td>\n      <td>45</td>\n      <td>1</td>\n      <td>0.0</td>\n      <td>NaN</td>\n      <td>0.44</td>\n      <td>1220</td>\n    </tr>\n    <tr>\n      <th>114</th>\n      <td>22368540</td>\n      <td>Studio 8b for 2 People - free parking included</td>\n      <td>48.23993</td>\n      <td>16.54627</td>\n      <td>Entire condo</td>\n      <td>Entire home/apt</td>\n      <td>1</td>\n      <td>NaN</td>\n      <td>48</td>\n      <td>1</td>\n      <td>0.0</td>\n      <td>NaN</td>\n      <td>0.02</td>\n      <td>1220</td>\n    </tr>\n    <tr>\n      <th>176</th>\n      <td>34384502</td>\n      <td>Smart Sleep</td>\n      <td>48.21674</td>\n      <td>16.48274</td>\n      <td>Entire rental unit</td>\n      <td>Entire home/apt</td>\n      <td>2</td>\n      <td>1.0</td>\n      <td>1</td>\n      <td>5</td>\n      <td>0.0</td>\n      <td>NaN</td>\n      <td>0.12</td>\n      <td>1220</td>\n    </tr>\n    <tr>\n      <th>444</th>\n      <td>5102698</td>\n      <td>Wohnung im Herzen der Stadt!</td>\n      <td>48.22220</td>\n      <td>16.38228</td>\n      <td>Entire rental unit</td>\n      <td>Entire home/apt</td>\n      <td>4</td>\n      <td>2.0</td>\n      <td>99</td>\n      <td>1</td>\n      <td>0.0</td>\n      <td>NaN</td>\n      <td>0.01</td>\n      <td>1020</td>\n    </tr>\n  </tbody>\n</table>\n</div>"
     },
     "execution_count": 137,
     "metadata": {},
     "output_type": "execute_result"
    }
   ],
   "source": [
    "withreviews = listings_cleaned[listings_cleaned['number_of_reviews']!=0]\n",
    "withreviews[withreviews['review_scores_location'].isna()].head(5)"
   ]
  },
  {
   "cell_type": "markdown",
   "metadata": {},
   "source": [
    "### First glimpse into NAN values\n",
    "\n",
    "1. All the missing values of column `review_scores_rating`, `reviews_per_month` are due to the `number_of_reviews` being 0. So I believe these values are MAR (Missing at Random).\n",
    "2. Moreover, also 1928 out of 2024 missing value rows of `review_scores_location` are connected to the fact that the `number_of_reviews` is 0. For remaining 96,they are missing even though there are few reviews for the listing, maybe due to the fact that the guest did not rate location explictly.\n",
    "3. For column `bedrooms`, I think there is no connection between this variable missing and other columns- MCAR."
   ]
  },
  {
   "cell_type": "markdown",
   "metadata": {},
   "source": []
  },
  {
   "cell_type": "markdown",
   "metadata": {
    "pycharm": {
     "name": "#%% md\n"
    }
   },
   "source": [
    "#### WIENTOURISM Data Set"
   ]
  },
  {
   "cell_type": "code",
   "execution_count": 140,
   "outputs": [
    {
     "data": {
      "text/plain": "                NAME  POSTALCODE               CATEGORY_NAME  \\\n0          Porzellan        1090  Essen, Trinken & Nightlife   \n1  Postamt 1150 Wien        1150               Infrastruktur   \n2         Prater Alm        1020  Essen, Trinken & Nightlife   \n3       Pratermuseum        1020                 Sightseeing   \n4         Praterturm        1020                 Sightseeing   \n\n   SUBCATEGORY_NAME     GEOLAT    GEOLONG  \n0        Restaurant  48.219222  16.364447  \n1         Sonstiges  48.195808  16.338125  \n2  Gasthaus & Beisl  48.215450  16.402072  \n3            Museum  48.216236  16.394952  \n4  Sehenswürdigkeit  48.216727  16.398029  ",
      "text/html": "<div>\n<style scoped>\n    .dataframe tbody tr th:only-of-type {\n        vertical-align: middle;\n    }\n\n    .dataframe tbody tr th {\n        vertical-align: top;\n    }\n\n    .dataframe thead th {\n        text-align: right;\n    }\n</style>\n<table border=\"1\" class=\"dataframe\">\n  <thead>\n    <tr style=\"text-align: right;\">\n      <th></th>\n      <th>NAME</th>\n      <th>POSTALCODE</th>\n      <th>CATEGORY_NAME</th>\n      <th>SUBCATEGORY_NAME</th>\n      <th>GEOLAT</th>\n      <th>GEOLONG</th>\n    </tr>\n  </thead>\n  <tbody>\n    <tr>\n      <th>0</th>\n      <td>Porzellan</td>\n      <td>1090</td>\n      <td>Essen, Trinken &amp; Nightlife</td>\n      <td>Restaurant</td>\n      <td>48.219222</td>\n      <td>16.364447</td>\n    </tr>\n    <tr>\n      <th>1</th>\n      <td>Postamt 1150 Wien</td>\n      <td>1150</td>\n      <td>Infrastruktur</td>\n      <td>Sonstiges</td>\n      <td>48.195808</td>\n      <td>16.338125</td>\n    </tr>\n    <tr>\n      <th>2</th>\n      <td>Prater Alm</td>\n      <td>1020</td>\n      <td>Essen, Trinken &amp; Nightlife</td>\n      <td>Gasthaus &amp; Beisl</td>\n      <td>48.215450</td>\n      <td>16.402072</td>\n    </tr>\n    <tr>\n      <th>3</th>\n      <td>Pratermuseum</td>\n      <td>1020</td>\n      <td>Sightseeing</td>\n      <td>Museum</td>\n      <td>48.216236</td>\n      <td>16.394952</td>\n    </tr>\n    <tr>\n      <th>4</th>\n      <td>Praterturm</td>\n      <td>1020</td>\n      <td>Sightseeing</td>\n      <td>Sehenswürdigkeit</td>\n      <td>48.216727</td>\n      <td>16.398029</td>\n    </tr>\n  </tbody>\n</table>\n</div>"
     },
     "execution_count": 140,
     "metadata": {},
     "output_type": "execute_result"
    }
   ],
   "source": [
    "tourism = pd.read_csv(\"data/WIENTOURISMUSOGD.csv\")\n",
    "toursim_cleaned = tourism[['NAME','POSTALCODE', 'CATEGORY_NAME','SUBCATEGORY_NAME', 'GEOLAT', 'GEOLONG']]\n",
    "remove_cats = ['Hotel', 'Pension', 'Appartement', 'Saisonhotel']\n",
    "toursim_cleaned = toursim_cleaned[~toursim_cleaned['SUBCATEGORY_NAME'].isin(remove_cats)]\n",
    "toursim_cleaned.head()"
   ],
   "metadata": {
    "collapsed": false,
    "pycharm": {
     "name": "#%%\n"
    }
   }
  },
  {
   "cell_type": "markdown",
   "metadata": {},
   "source": [
    "### Joining Datasets"
   ]
  },
  {
   "cell_type": "code",
   "execution_count": 141,
   "metadata": {
    "pycharm": {
     "name": "#%%\n"
    }
   },
   "outputs": [
    {
     "data": {
      "text/plain": "        NAME  POSTALCODE               CATEGORY_NAME SUBCATEGORY_NAME  \\\n0  Porzellan        1090  Essen, Trinken & Nightlife       Restaurant   \n1  Porzellan        1090  Essen, Trinken & Nightlife       Restaurant   \n2  Porzellan        1090  Essen, Trinken & Nightlife       Restaurant   \n3  Porzellan        1090  Essen, Trinken & Nightlife       Restaurant   \n4  Porzellan        1090  Essen, Trinken & Nightlife       Restaurant   \n\n      GEOLAT    GEOLONG       id                                 name  \\\n0  48.219222  16.364447    15883            b&b near Old Danube river   \n1  48.219222  16.364447   813826  apartment2rent  panaroma - UNO City   \n2  48.219222  16.364447   846009  Nice, clean and perfect location Ap   \n3  48.219222  16.364447  1384870     Nice bedroom in sweet apartment!   \n4  48.219222  16.364447  3217556                   Apartment Vienna B   \n\n   latitude  longitude                property_type        room_type  \\\n0  48.24262   16.42767    Room in bed and breakfast       Hotel room   \n1  48.23796   16.42418           Entire rental unit  Entire home/apt   \n2  48.23549   16.41152                 Entire condo  Entire home/apt   \n3  48.22707   16.44955  Private room in rental unit     Private room   \n4  48.21659   16.51765           Entire rental unit  Entire home/apt   \n\n   accommodates  bedrooms  price  number_of_reviews  review_scores_rating  \\\n0             3       1.0    110                 14                  4.71   \n1             4       NaN     82                 10                  4.80   \n2             3       1.0     60                 72                  4.77   \n3             2       1.0     34                 92                  4.60   \n4             4       1.0     76                 17                  4.76   \n\n   review_scores_location  reviews_per_month  post  \n0                    4.71               0.15  1220  \n1                    5.00               0.10  1220  \n2                    4.86               0.61  1220  \n3                    4.59               0.83  1220  \n4                    4.65               0.51  1220  ",
      "text/html": "<div>\n<style scoped>\n    .dataframe tbody tr th:only-of-type {\n        vertical-align: middle;\n    }\n\n    .dataframe tbody tr th {\n        vertical-align: top;\n    }\n\n    .dataframe thead th {\n        text-align: right;\n    }\n</style>\n<table border=\"1\" class=\"dataframe\">\n  <thead>\n    <tr style=\"text-align: right;\">\n      <th></th>\n      <th>NAME</th>\n      <th>POSTALCODE</th>\n      <th>CATEGORY_NAME</th>\n      <th>SUBCATEGORY_NAME</th>\n      <th>GEOLAT</th>\n      <th>GEOLONG</th>\n      <th>id</th>\n      <th>name</th>\n      <th>latitude</th>\n      <th>longitude</th>\n      <th>property_type</th>\n      <th>room_type</th>\n      <th>accommodates</th>\n      <th>bedrooms</th>\n      <th>price</th>\n      <th>number_of_reviews</th>\n      <th>review_scores_rating</th>\n      <th>review_scores_location</th>\n      <th>reviews_per_month</th>\n      <th>post</th>\n    </tr>\n  </thead>\n  <tbody>\n    <tr>\n      <th>0</th>\n      <td>Porzellan</td>\n      <td>1090</td>\n      <td>Essen, Trinken &amp; Nightlife</td>\n      <td>Restaurant</td>\n      <td>48.219222</td>\n      <td>16.364447</td>\n      <td>15883</td>\n      <td>b&amp;b near Old Danube river</td>\n      <td>48.24262</td>\n      <td>16.42767</td>\n      <td>Room in bed and breakfast</td>\n      <td>Hotel room</td>\n      <td>3</td>\n      <td>1.0</td>\n      <td>110</td>\n      <td>14</td>\n      <td>4.71</td>\n      <td>4.71</td>\n      <td>0.15</td>\n      <td>1220</td>\n    </tr>\n    <tr>\n      <th>1</th>\n      <td>Porzellan</td>\n      <td>1090</td>\n      <td>Essen, Trinken &amp; Nightlife</td>\n      <td>Restaurant</td>\n      <td>48.219222</td>\n      <td>16.364447</td>\n      <td>813826</td>\n      <td>apartment2rent  panaroma - UNO City</td>\n      <td>48.23796</td>\n      <td>16.42418</td>\n      <td>Entire rental unit</td>\n      <td>Entire home/apt</td>\n      <td>4</td>\n      <td>NaN</td>\n      <td>82</td>\n      <td>10</td>\n      <td>4.80</td>\n      <td>5.00</td>\n      <td>0.10</td>\n      <td>1220</td>\n    </tr>\n    <tr>\n      <th>2</th>\n      <td>Porzellan</td>\n      <td>1090</td>\n      <td>Essen, Trinken &amp; Nightlife</td>\n      <td>Restaurant</td>\n      <td>48.219222</td>\n      <td>16.364447</td>\n      <td>846009</td>\n      <td>Nice, clean and perfect location Ap</td>\n      <td>48.23549</td>\n      <td>16.41152</td>\n      <td>Entire condo</td>\n      <td>Entire home/apt</td>\n      <td>3</td>\n      <td>1.0</td>\n      <td>60</td>\n      <td>72</td>\n      <td>4.77</td>\n      <td>4.86</td>\n      <td>0.61</td>\n      <td>1220</td>\n    </tr>\n    <tr>\n      <th>3</th>\n      <td>Porzellan</td>\n      <td>1090</td>\n      <td>Essen, Trinken &amp; Nightlife</td>\n      <td>Restaurant</td>\n      <td>48.219222</td>\n      <td>16.364447</td>\n      <td>1384870</td>\n      <td>Nice bedroom in sweet apartment!</td>\n      <td>48.22707</td>\n      <td>16.44955</td>\n      <td>Private room in rental unit</td>\n      <td>Private room</td>\n      <td>2</td>\n      <td>1.0</td>\n      <td>34</td>\n      <td>92</td>\n      <td>4.60</td>\n      <td>4.59</td>\n      <td>0.83</td>\n      <td>1220</td>\n    </tr>\n    <tr>\n      <th>4</th>\n      <td>Porzellan</td>\n      <td>1090</td>\n      <td>Essen, Trinken &amp; Nightlife</td>\n      <td>Restaurant</td>\n      <td>48.219222</td>\n      <td>16.364447</td>\n      <td>3217556</td>\n      <td>Apartment Vienna B</td>\n      <td>48.21659</td>\n      <td>16.51765</td>\n      <td>Entire rental unit</td>\n      <td>Entire home/apt</td>\n      <td>4</td>\n      <td>1.0</td>\n      <td>76</td>\n      <td>17</td>\n      <td>4.76</td>\n      <td>4.65</td>\n      <td>0.51</td>\n      <td>1220</td>\n    </tr>\n  </tbody>\n</table>\n</div>"
     },
     "execution_count": 141,
     "metadata": {},
     "output_type": "execute_result"
    }
   ],
   "source": [
    "joined_df = toursim_cleaned.join(listings_cleaned, how=\"cross\", lsuffix=\"_tourism\", rsuffix=\"_listing\")\n",
    "joined_df.head(5)"
   ]
  },
  {
   "cell_type": "markdown",
   "metadata": {},
   "source": [
    "#### Computing distance  between each listing and each POI as euclidean distance"
   ]
  },
  {
   "cell_type": "code",
   "execution_count": 33,
   "metadata": {
    "pycharm": {
     "name": "#%%\n"
    }
   },
   "outputs": [
    {
     "ename": "KeyboardInterrupt",
     "evalue": "",
     "output_type": "error",
     "traceback": [
      "\u001B[1;31m---------------------------------------------------------------------------\u001B[0m",
      "\u001B[1;31mKeyboardInterrupt\u001B[0m                         Traceback (most recent call last)",
      "Cell \u001B[1;32mIn[33], line 1\u001B[0m\n\u001B[1;32m----> 1\u001B[0m joined_df[\u001B[38;5;124m'\u001B[39m\u001B[38;5;124mdistance\u001B[39m\u001B[38;5;124m'\u001B[39m] \u001B[38;5;241m=\u001B[39m \u001B[43mjoined_df\u001B[49m\u001B[38;5;241;43m.\u001B[39;49m\u001B[43mapply\u001B[49m\u001B[43m(\u001B[49m\u001B[38;5;28;43;01mlambda\u001B[39;49;00m\u001B[43m \u001B[49m\u001B[43mx\u001B[49m\u001B[43m:\u001B[49m\u001B[43m \u001B[49m\u001B[43mgeopy\u001B[49m\u001B[38;5;241;43m.\u001B[39;49m\u001B[43mdistance\u001B[49m\u001B[38;5;241;43m.\u001B[39;49m\u001B[43mgeodesic\u001B[49m\u001B[43m(\u001B[49m\u001B[43m(\u001B[49m\u001B[43mx\u001B[49m\u001B[43m[\u001B[49m\u001B[38;5;124;43m'\u001B[39;49m\u001B[38;5;124;43mGEOLONG\u001B[39;49m\u001B[38;5;124;43m'\u001B[39;49m\u001B[43m]\u001B[49m\u001B[43m,\u001B[49m\u001B[43m \u001B[49m\u001B[43mx\u001B[49m\u001B[43m[\u001B[49m\u001B[38;5;124;43m'\u001B[39;49m\u001B[38;5;124;43mGEOLAT\u001B[39;49m\u001B[38;5;124;43m'\u001B[39;49m\u001B[43m]\u001B[49m\u001B[43m)\u001B[49m\u001B[43m,\u001B[49m\n\u001B[0;32m      2\u001B[0m \u001B[43m                                                \u001B[49m\u001B[43m(\u001B[49m\u001B[43mx\u001B[49m\u001B[43m[\u001B[49m\u001B[38;5;124;43m'\u001B[39;49m\u001B[38;5;124;43mlongitude\u001B[39;49m\u001B[38;5;124;43m'\u001B[39;49m\u001B[43m]\u001B[49m\u001B[43m,\u001B[49m\u001B[43m \u001B[49m\u001B[43mx\u001B[49m\u001B[43m[\u001B[49m\u001B[38;5;124;43m'\u001B[39;49m\u001B[38;5;124;43mlatitude\u001B[39;49m\u001B[38;5;124;43m'\u001B[39;49m\u001B[43m]\u001B[49m\u001B[43m)\u001B[49m\u001B[43m)\u001B[49m\u001B[38;5;241;43m.\u001B[39;49m\u001B[43mkm\u001B[49m\u001B[43m,\u001B[49m\u001B[43m \u001B[49m\u001B[43maxis\u001B[49m\u001B[38;5;241;43m=\u001B[39;49m\u001B[38;5;241;43m1\u001B[39;49m\u001B[43m)\u001B[49m\n\u001B[0;32m      3\u001B[0m joined_df\u001B[38;5;241m.\u001B[39mhead()\n",
      "File \u001B[1;32md:\\mega\\uni\\dop\\project\\venv\\lib\\site-packages\\pandas\\core\\frame.py:9565\u001B[0m, in \u001B[0;36mDataFrame.apply\u001B[1;34m(self, func, axis, raw, result_type, args, **kwargs)\u001B[0m\n\u001B[0;32m   9554\u001B[0m \u001B[38;5;28;01mfrom\u001B[39;00m \u001B[38;5;21;01mpandas\u001B[39;00m\u001B[38;5;21;01m.\u001B[39;00m\u001B[38;5;21;01mcore\u001B[39;00m\u001B[38;5;21;01m.\u001B[39;00m\u001B[38;5;21;01mapply\u001B[39;00m \u001B[38;5;28;01mimport\u001B[39;00m frame_apply\n\u001B[0;32m   9556\u001B[0m op \u001B[38;5;241m=\u001B[39m frame_apply(\n\u001B[0;32m   9557\u001B[0m     \u001B[38;5;28mself\u001B[39m,\n\u001B[0;32m   9558\u001B[0m     func\u001B[38;5;241m=\u001B[39mfunc,\n\u001B[1;32m   (...)\u001B[0m\n\u001B[0;32m   9563\u001B[0m     kwargs\u001B[38;5;241m=\u001B[39mkwargs,\n\u001B[0;32m   9564\u001B[0m )\n\u001B[1;32m-> 9565\u001B[0m \u001B[38;5;28;01mreturn\u001B[39;00m \u001B[43mop\u001B[49m\u001B[38;5;241;43m.\u001B[39;49m\u001B[43mapply\u001B[49m\u001B[43m(\u001B[49m\u001B[43m)\u001B[49m\u001B[38;5;241m.\u001B[39m__finalize__(\u001B[38;5;28mself\u001B[39m, method\u001B[38;5;241m=\u001B[39m\u001B[38;5;124m\"\u001B[39m\u001B[38;5;124mapply\u001B[39m\u001B[38;5;124m\"\u001B[39m)\n",
      "File \u001B[1;32md:\\mega\\uni\\dop\\project\\venv\\lib\\site-packages\\pandas\\core\\apply.py:746\u001B[0m, in \u001B[0;36mFrameApply.apply\u001B[1;34m(self)\u001B[0m\n\u001B[0;32m    743\u001B[0m \u001B[38;5;28;01melif\u001B[39;00m \u001B[38;5;28mself\u001B[39m\u001B[38;5;241m.\u001B[39mraw:\n\u001B[0;32m    744\u001B[0m     \u001B[38;5;28;01mreturn\u001B[39;00m \u001B[38;5;28mself\u001B[39m\u001B[38;5;241m.\u001B[39mapply_raw()\n\u001B[1;32m--> 746\u001B[0m \u001B[38;5;28;01mreturn\u001B[39;00m \u001B[38;5;28;43mself\u001B[39;49m\u001B[38;5;241;43m.\u001B[39;49m\u001B[43mapply_standard\u001B[49m\u001B[43m(\u001B[49m\u001B[43m)\u001B[49m\n",
      "File \u001B[1;32md:\\mega\\uni\\dop\\project\\venv\\lib\\site-packages\\pandas\\core\\apply.py:873\u001B[0m, in \u001B[0;36mFrameApply.apply_standard\u001B[1;34m(self)\u001B[0m\n\u001B[0;32m    872\u001B[0m \u001B[38;5;28;01mdef\u001B[39;00m \u001B[38;5;21mapply_standard\u001B[39m(\u001B[38;5;28mself\u001B[39m):\n\u001B[1;32m--> 873\u001B[0m     results, res_index \u001B[38;5;241m=\u001B[39m \u001B[38;5;28;43mself\u001B[39;49m\u001B[38;5;241;43m.\u001B[39;49m\u001B[43mapply_series_generator\u001B[49m\u001B[43m(\u001B[49m\u001B[43m)\u001B[49m\n\u001B[0;32m    875\u001B[0m     \u001B[38;5;66;03m# wrap results\u001B[39;00m\n\u001B[0;32m    876\u001B[0m     \u001B[38;5;28;01mreturn\u001B[39;00m \u001B[38;5;28mself\u001B[39m\u001B[38;5;241m.\u001B[39mwrap_results(results, res_index)\n",
      "File \u001B[1;32md:\\mega\\uni\\dop\\project\\venv\\lib\\site-packages\\pandas\\core\\apply.py:889\u001B[0m, in \u001B[0;36mFrameApply.apply_series_generator\u001B[1;34m(self)\u001B[0m\n\u001B[0;32m    886\u001B[0m \u001B[38;5;28;01mwith\u001B[39;00m option_context(\u001B[38;5;124m\"\u001B[39m\u001B[38;5;124mmode.chained_assignment\u001B[39m\u001B[38;5;124m\"\u001B[39m, \u001B[38;5;28;01mNone\u001B[39;00m):\n\u001B[0;32m    887\u001B[0m     \u001B[38;5;28;01mfor\u001B[39;00m i, v \u001B[38;5;129;01min\u001B[39;00m \u001B[38;5;28menumerate\u001B[39m(series_gen):\n\u001B[0;32m    888\u001B[0m         \u001B[38;5;66;03m# ignore SettingWithCopy here in case the user mutates\u001B[39;00m\n\u001B[1;32m--> 889\u001B[0m         results[i] \u001B[38;5;241m=\u001B[39m \u001B[38;5;28;43mself\u001B[39;49m\u001B[38;5;241;43m.\u001B[39;49m\u001B[43mf\u001B[49m\u001B[43m(\u001B[49m\u001B[43mv\u001B[49m\u001B[43m)\u001B[49m\n\u001B[0;32m    890\u001B[0m         \u001B[38;5;28;01mif\u001B[39;00m \u001B[38;5;28misinstance\u001B[39m(results[i], ABCSeries):\n\u001B[0;32m    891\u001B[0m             \u001B[38;5;66;03m# If we have a view on v, we need to make a copy because\u001B[39;00m\n\u001B[0;32m    892\u001B[0m             \u001B[38;5;66;03m#  series_generator will swap out the underlying data\u001B[39;00m\n\u001B[0;32m    893\u001B[0m             results[i] \u001B[38;5;241m=\u001B[39m results[i]\u001B[38;5;241m.\u001B[39mcopy(deep\u001B[38;5;241m=\u001B[39m\u001B[38;5;28;01mFalse\u001B[39;00m)\n",
      "Cell \u001B[1;32mIn[33], line 1\u001B[0m, in \u001B[0;36m<lambda>\u001B[1;34m(x)\u001B[0m\n\u001B[1;32m----> 1\u001B[0m joined_df[\u001B[38;5;124m'\u001B[39m\u001B[38;5;124mdistance\u001B[39m\u001B[38;5;124m'\u001B[39m] \u001B[38;5;241m=\u001B[39m joined_df\u001B[38;5;241m.\u001B[39mapply(\u001B[38;5;28;01mlambda\u001B[39;00m x: \u001B[43mgeopy\u001B[49m\u001B[38;5;241;43m.\u001B[39;49m\u001B[43mdistance\u001B[49m\u001B[38;5;241;43m.\u001B[39;49m\u001B[43mgeodesic\u001B[49m\u001B[43m(\u001B[49m\u001B[43m(\u001B[49m\u001B[43mx\u001B[49m\u001B[43m[\u001B[49m\u001B[38;5;124;43m'\u001B[39;49m\u001B[38;5;124;43mGEOLONG\u001B[39;49m\u001B[38;5;124;43m'\u001B[39;49m\u001B[43m]\u001B[49m\u001B[43m,\u001B[49m\u001B[43m \u001B[49m\u001B[43mx\u001B[49m\u001B[43m[\u001B[49m\u001B[38;5;124;43m'\u001B[39;49m\u001B[38;5;124;43mGEOLAT\u001B[39;49m\u001B[38;5;124;43m'\u001B[39;49m\u001B[43m]\u001B[49m\u001B[43m)\u001B[49m\u001B[43m,\u001B[49m\n\u001B[0;32m      2\u001B[0m \u001B[43m                                                \u001B[49m\u001B[43m(\u001B[49m\u001B[43mx\u001B[49m\u001B[43m[\u001B[49m\u001B[38;5;124;43m'\u001B[39;49m\u001B[38;5;124;43mlongitude\u001B[39;49m\u001B[38;5;124;43m'\u001B[39;49m\u001B[43m]\u001B[49m\u001B[43m,\u001B[49m\u001B[43m \u001B[49m\u001B[43mx\u001B[49m\u001B[43m[\u001B[49m\u001B[38;5;124;43m'\u001B[39;49m\u001B[38;5;124;43mlatitude\u001B[39;49m\u001B[38;5;124;43m'\u001B[39;49m\u001B[43m]\u001B[49m\u001B[43m)\u001B[49m\u001B[43m)\u001B[49m\u001B[38;5;241m.\u001B[39mkm, axis\u001B[38;5;241m=\u001B[39m\u001B[38;5;241m1\u001B[39m)\n\u001B[0;32m      3\u001B[0m joined_df\u001B[38;5;241m.\u001B[39mhead()\n",
      "File \u001B[1;32md:\\mega\\uni\\dop\\project\\venv\\lib\\site-packages\\geopy\\distance.py:540\u001B[0m, in \u001B[0;36mgeodesic.__init__\u001B[1;34m(self, *args, **kwargs)\u001B[0m\n\u001B[0;32m    538\u001B[0m \u001B[38;5;28mself\u001B[39m\u001B[38;5;241m.\u001B[39mset_ellipsoid(kwargs\u001B[38;5;241m.\u001B[39mpop(\u001B[38;5;124m'\u001B[39m\u001B[38;5;124mellipsoid\u001B[39m\u001B[38;5;124m'\u001B[39m, \u001B[38;5;124m'\u001B[39m\u001B[38;5;124mWGS-84\u001B[39m\u001B[38;5;124m'\u001B[39m))\n\u001B[0;32m    539\u001B[0m major, minor, f \u001B[38;5;241m=\u001B[39m \u001B[38;5;28mself\u001B[39m\u001B[38;5;241m.\u001B[39mELLIPSOID\n\u001B[1;32m--> 540\u001B[0m \u001B[38;5;28msuper\u001B[39m()\u001B[38;5;241m.\u001B[39m\u001B[38;5;21m__init__\u001B[39m(\u001B[38;5;241m*\u001B[39margs, \u001B[38;5;241m*\u001B[39m\u001B[38;5;241m*\u001B[39mkwargs)\n",
      "File \u001B[1;32md:\\mega\\uni\\dop\\project\\venv\\lib\\site-packages\\geopy\\distance.py:276\u001B[0m, in \u001B[0;36mDistance.__init__\u001B[1;34m(self, *args, **kwargs)\u001B[0m\n\u001B[0;32m    274\u001B[0m \u001B[38;5;28;01melif\u001B[39;00m \u001B[38;5;28mlen\u001B[39m(args) \u001B[38;5;241m>\u001B[39m \u001B[38;5;241m1\u001B[39m:\n\u001B[0;32m    275\u001B[0m     \u001B[38;5;28;01mfor\u001B[39;00m a, b \u001B[38;5;129;01min\u001B[39;00m util\u001B[38;5;241m.\u001B[39mpairwise(args):\n\u001B[1;32m--> 276\u001B[0m         kilometers \u001B[38;5;241m+\u001B[39m\u001B[38;5;241m=\u001B[39m \u001B[38;5;28;43mself\u001B[39;49m\u001B[38;5;241;43m.\u001B[39;49m\u001B[43mmeasure\u001B[49m\u001B[43m(\u001B[49m\u001B[43ma\u001B[49m\u001B[43m,\u001B[49m\u001B[43m \u001B[49m\u001B[43mb\u001B[49m\u001B[43m)\u001B[49m\n\u001B[0;32m    278\u001B[0m kilometers \u001B[38;5;241m+\u001B[39m\u001B[38;5;241m=\u001B[39m units\u001B[38;5;241m.\u001B[39mkilometers(\u001B[38;5;241m*\u001B[39m\u001B[38;5;241m*\u001B[39mkwargs)\n\u001B[0;32m    279\u001B[0m \u001B[38;5;28mself\u001B[39m\u001B[38;5;241m.\u001B[39m__kilometers \u001B[38;5;241m=\u001B[39m kilometers\n",
      "File \u001B[1;32md:\\mega\\uni\\dop\\project\\venv\\lib\\site-packages\\geopy\\distance.py:566\u001B[0m, in \u001B[0;36mgeodesic.measure\u001B[1;34m(self, a, b)\u001B[0m\n\u001B[0;32m    561\u001B[0m \u001B[38;5;28;01mif\u001B[39;00m \u001B[38;5;129;01mnot\u001B[39;00m (\u001B[38;5;28misinstance\u001B[39m(\u001B[38;5;28mself\u001B[39m\u001B[38;5;241m.\u001B[39mgeod, Geodesic) \u001B[38;5;129;01mand\u001B[39;00m\n\u001B[0;32m    562\u001B[0m         \u001B[38;5;28mself\u001B[39m\u001B[38;5;241m.\u001B[39mgeod\u001B[38;5;241m.\u001B[39ma \u001B[38;5;241m==\u001B[39m \u001B[38;5;28mself\u001B[39m\u001B[38;5;241m.\u001B[39mELLIPSOID[\u001B[38;5;241m0\u001B[39m] \u001B[38;5;129;01mand\u001B[39;00m\n\u001B[0;32m    563\u001B[0m         \u001B[38;5;28mself\u001B[39m\u001B[38;5;241m.\u001B[39mgeod\u001B[38;5;241m.\u001B[39mf \u001B[38;5;241m==\u001B[39m \u001B[38;5;28mself\u001B[39m\u001B[38;5;241m.\u001B[39mELLIPSOID[\u001B[38;5;241m2\u001B[39m]):\n\u001B[0;32m    564\u001B[0m     \u001B[38;5;28mself\u001B[39m\u001B[38;5;241m.\u001B[39mgeod \u001B[38;5;241m=\u001B[39m Geodesic(\u001B[38;5;28mself\u001B[39m\u001B[38;5;241m.\u001B[39mELLIPSOID[\u001B[38;5;241m0\u001B[39m], \u001B[38;5;28mself\u001B[39m\u001B[38;5;241m.\u001B[39mELLIPSOID[\u001B[38;5;241m2\u001B[39m])\n\u001B[1;32m--> 566\u001B[0m s12 \u001B[38;5;241m=\u001B[39m \u001B[38;5;28;43mself\u001B[39;49m\u001B[38;5;241;43m.\u001B[39;49m\u001B[43mgeod\u001B[49m\u001B[38;5;241;43m.\u001B[39;49m\u001B[43mInverse\u001B[49m\u001B[43m(\u001B[49m\u001B[43mlat1\u001B[49m\u001B[43m,\u001B[49m\u001B[43m \u001B[49m\u001B[43mlon1\u001B[49m\u001B[43m,\u001B[49m\u001B[43m \u001B[49m\u001B[43mlat2\u001B[49m\u001B[43m,\u001B[49m\u001B[43m \u001B[49m\u001B[43mlon2\u001B[49m\u001B[43m,\u001B[49m\n\u001B[0;32m    567\u001B[0m \u001B[43m                        \u001B[49m\u001B[43mGeodesic\u001B[49m\u001B[38;5;241;43m.\u001B[39;49m\u001B[43mDISTANCE\u001B[49m\u001B[43m)\u001B[49m[\u001B[38;5;124m'\u001B[39m\u001B[38;5;124ms12\u001B[39m\u001B[38;5;124m'\u001B[39m]\n\u001B[0;32m    569\u001B[0m \u001B[38;5;28;01mreturn\u001B[39;00m s12\n",
      "File \u001B[1;32md:\\mega\\uni\\dop\\project\\venv\\lib\\site-packages\\geographiclib\\geodesic.py:1030\u001B[0m, in \u001B[0;36mGeodesic.Inverse\u001B[1;34m(self, lat1, lon1, lat2, lon2, outmask)\u001B[0m\n\u001B[0;32m   1012\u001B[0m \u001B[38;5;28;01mdef\u001B[39;00m \u001B[38;5;21mInverse\u001B[39m(\u001B[38;5;28mself\u001B[39m, lat1, lon1, lat2, lon2,\n\u001B[0;32m   1013\u001B[0m             outmask \u001B[38;5;241m=\u001B[39m GeodesicCapability\u001B[38;5;241m.\u001B[39mSTANDARD):\n\u001B[0;32m   1014\u001B[0m   \u001B[38;5;124;03m\"\"\"Solve the inverse geodesic problem\u001B[39;00m\n\u001B[0;32m   1015\u001B[0m \n\u001B[0;32m   1016\u001B[0m \u001B[38;5;124;03m  :param lat1: latitude of the first point in degrees\u001B[39;00m\n\u001B[1;32m   (...)\u001B[0m\n\u001B[0;32m   1027\u001B[0m \n\u001B[0;32m   1028\u001B[0m \u001B[38;5;124;03m  \"\"\"\u001B[39;00m\n\u001B[1;32m-> 1030\u001B[0m   a12, s12, salp1,calp1, salp2,calp2, m12, M12, M21, S12 \u001B[38;5;241m=\u001B[39m \u001B[38;5;28;43mself\u001B[39;49m\u001B[38;5;241;43m.\u001B[39;49m\u001B[43m_GenInverse\u001B[49m\u001B[43m(\u001B[49m\n\u001B[0;32m   1031\u001B[0m \u001B[43m    \u001B[49m\u001B[43mlat1\u001B[49m\u001B[43m,\u001B[49m\u001B[43m \u001B[49m\u001B[43mlon1\u001B[49m\u001B[43m,\u001B[49m\u001B[43m \u001B[49m\u001B[43mlat2\u001B[49m\u001B[43m,\u001B[49m\u001B[43m \u001B[49m\u001B[43mlon2\u001B[49m\u001B[43m,\u001B[49m\u001B[43m \u001B[49m\u001B[43moutmask\u001B[49m\u001B[43m)\u001B[49m\n\u001B[0;32m   1032\u001B[0m   outmask \u001B[38;5;241m&\u001B[39m\u001B[38;5;241m=\u001B[39m Geodesic\u001B[38;5;241m.\u001B[39mOUT_MASK\n\u001B[0;32m   1033\u001B[0m   \u001B[38;5;28;01mif\u001B[39;00m outmask \u001B[38;5;241m&\u001B[39m Geodesic\u001B[38;5;241m.\u001B[39mLONG_UNROLL:\n",
      "File \u001B[1;32md:\\mega\\uni\\dop\\project\\venv\\lib\\site-packages\\geographiclib\\geodesic.py:841\u001B[0m, in \u001B[0;36mGeodesic._GenInverse\u001B[1;34m(self, lat1, lon1, lat2, lon2, outmask)\u001B[0m\n\u001B[0;32m    833\u001B[0m   a12 \u001B[38;5;241m=\u001B[39m lon12 \u001B[38;5;241m/\u001B[39m \u001B[38;5;28mself\u001B[39m\u001B[38;5;241m.\u001B[39m_f1\n\u001B[0;32m    835\u001B[0m \u001B[38;5;28;01melif\u001B[39;00m \u001B[38;5;129;01mnot\u001B[39;00m meridian:\n\u001B[0;32m    836\u001B[0m \n\u001B[0;32m    837\u001B[0m   \u001B[38;5;66;03m# Now point1 and point2 belong within a hemisphere bounded by a\u001B[39;00m\n\u001B[0;32m    838\u001B[0m   \u001B[38;5;66;03m# meridian and geodesic is neither meridional or equatorial.\u001B[39;00m\n\u001B[0;32m    839\u001B[0m \n\u001B[0;32m    840\u001B[0m   \u001B[38;5;66;03m# Figure a starting point for Newton's method\u001B[39;00m\n\u001B[1;32m--> 841\u001B[0m   sig12, salp1, calp1, salp2, calp2, dnm \u001B[38;5;241m=\u001B[39m \u001B[38;5;28;43mself\u001B[39;49m\u001B[38;5;241;43m.\u001B[39;49m\u001B[43m_InverseStart\u001B[49m\u001B[43m(\u001B[49m\n\u001B[0;32m    842\u001B[0m \u001B[43m    \u001B[49m\u001B[43msbet1\u001B[49m\u001B[43m,\u001B[49m\u001B[43m \u001B[49m\u001B[43mcbet1\u001B[49m\u001B[43m,\u001B[49m\u001B[43m \u001B[49m\u001B[43mdn1\u001B[49m\u001B[43m,\u001B[49m\u001B[43m \u001B[49m\u001B[43msbet2\u001B[49m\u001B[43m,\u001B[49m\u001B[43m \u001B[49m\u001B[43mcbet2\u001B[49m\u001B[43m,\u001B[49m\u001B[43m \u001B[49m\u001B[43mdn2\u001B[49m\u001B[43m,\u001B[49m\u001B[43m \u001B[49m\u001B[43mlam12\u001B[49m\u001B[43m,\u001B[49m\u001B[43m \u001B[49m\u001B[43mslam12\u001B[49m\u001B[43m,\u001B[49m\u001B[43m \u001B[49m\u001B[43mclam12\u001B[49m\u001B[43m,\u001B[49m\u001B[43m \u001B[49m\u001B[43mC1a\u001B[49m\u001B[43m,\u001B[49m\u001B[43m \u001B[49m\u001B[43mC2a\u001B[49m\u001B[43m)\u001B[49m\n\u001B[0;32m    844\u001B[0m   \u001B[38;5;28;01mif\u001B[39;00m sig12 \u001B[38;5;241m>\u001B[39m\u001B[38;5;241m=\u001B[39m \u001B[38;5;241m0\u001B[39m:\n\u001B[0;32m    845\u001B[0m     \u001B[38;5;66;03m# Short lines (InverseStart sets salp2, calp2, dnm)\u001B[39;00m\n\u001B[0;32m    846\u001B[0m     s12x \u001B[38;5;241m=\u001B[39m sig12 \u001B[38;5;241m*\u001B[39m \u001B[38;5;28mself\u001B[39m\u001B[38;5;241m.\u001B[39m_b \u001B[38;5;241m*\u001B[39m dnm\n",
      "File \u001B[1;32md:\\mega\\uni\\dop\\project\\venv\\lib\\site-packages\\geographiclib\\geodesic.py:617\u001B[0m, in \u001B[0;36mGeodesic._InverseStart\u001B[1;34m(self, sbet1, cbet1, dn1, sbet2, cbet2, dn2, lam12, slam12, clam12, C1a, C2a)\u001B[0m\n\u001B[0;32m    615\u001B[0m \u001B[38;5;66;03m# Sanity check on starting guess.  Backwards check allows NaN through.\u001B[39;00m\n\u001B[0;32m    616\u001B[0m \u001B[38;5;28;01mif\u001B[39;00m \u001B[38;5;129;01mnot\u001B[39;00m (salp1 \u001B[38;5;241m<\u001B[39m\u001B[38;5;241m=\u001B[39m \u001B[38;5;241m0\u001B[39m):\n\u001B[1;32m--> 617\u001B[0m   salp1, calp1 \u001B[38;5;241m=\u001B[39m \u001B[43mMath\u001B[49m\u001B[38;5;241;43m.\u001B[39;49m\u001B[43mnorm\u001B[49m\u001B[43m(\u001B[49m\u001B[43msalp1\u001B[49m\u001B[43m,\u001B[49m\u001B[43m \u001B[49m\u001B[43mcalp1\u001B[49m\u001B[43m)\u001B[49m\n\u001B[0;32m    618\u001B[0m \u001B[38;5;28;01melse\u001B[39;00m:\n\u001B[0;32m    619\u001B[0m   salp1 \u001B[38;5;241m=\u001B[39m \u001B[38;5;241m1\u001B[39m; calp1 \u001B[38;5;241m=\u001B[39m \u001B[38;5;241m0\u001B[39m\n",
      "\u001B[1;31mKeyboardInterrupt\u001B[0m: "
     ]
    }
   ],
   "source": [
    "joined_df['distance'] = joined_df.apply(lambda x: geopy.distance.geodesic((x['GEOLONG'], x['GEOLAT']),\n",
    "                                (x['longitude'], x['latitude'])).km, axis=1)\n",
    "joined_df.head()\n",
    "joined_df.to_csv(\"data/joined_df.csv\")"
   ]
  },
  {
   "cell_type": "markdown",
   "metadata": {
    "pycharm": {
     "name": "#%% md\n"
    }
   },
   "source": []
  },
  {
   "cell_type": "code",
   "execution_count": null,
   "outputs": [],
   "source": [
    "borders = pd.read_csv(\"data/borders.csv\").to_numpy()\n",
    "def check_distance(x):\n",
    "    check_tuple = np.array([x['post'], x['POSTALCODE']])\n",
    "    borders_dist = (borders==check_tuple).all(axis=1).any()\n",
    "    if int(x[\"post\"]) == int(x[\"POSTALCODE\"]) or borders_dist:\n",
    "       return True\n",
    "    else:\n",
    "        return False\n",
    "\n",
    "def calculate_distance(x):\n",
    "     x[\"distance\"] = geopy.distance.geodesic((x['GEOLONG'], x['GEOLAT']),\n",
    "                                (x['longitude'], x['latitude'])).km\n",
    "     return x\n",
    "\n",
    "mask = joined_df.apply(lambda x:check_distance(x), axis=1)\n",
    "df = joined_df.loc[mask,:]\n",
    "df = df.apply(lambda x: calculate_distance(x), axis=1)\n",
    "df.head()\n",
    "df.to_csv(\"data/another_df.csv\")\n",
    "# df.head()"
   ],
   "metadata": {
    "collapsed": false,
    "pycharm": {
     "name": "#%%\n",
     "is_executing": true
    }
   }
  },
  {
   "cell_type": "code",
   "execution_count": 90,
   "outputs": [],
   "source": [],
   "metadata": {
    "collapsed": false,
    "pycharm": {
     "name": "#%%\n"
    }
   }
  }
 ],
 "metadata": {
  "kernelspec": {
   "display_name": "Python 3",
   "language": "python",
   "name": "python3"
  },
  "language_info": {
   "codemirror_mode": {
    "name": "ipython",
    "version": 3
   },
   "file_extension": ".py",
   "mimetype": "text/x-python",
   "name": "python",
   "nbconvert_exporter": "python",
   "pygments_lexer": "ipython3",
   "version": "3.8.8"
  }
 },
 "nbformat": 4,
 "nbformat_minor": 1
}