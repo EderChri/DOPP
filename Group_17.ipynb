{
 "cells": [
  {
   "cell_type": "markdown",
   "metadata": {
    "collapsed": true,
    "pycharm": {
     "name": "#%% md\n"
    }
   },
   "source": [
    "# Some fancy Title"
   ]
  },
  {
   "cell_type": "markdown",
   "source": [
    "## Goal of the project\n",
    "\n",
    "-) Is there any connection between the location of an AirBnb and Points of interests around it, to the location rating\n",
    "-) How well can a new location of an AirBnb be predicted\n",
    "\n",
    "## Data sets\n",
    "\n",
    "### listings.csv\n",
    "\n",
    "Source: http://data.insideairbnb.com/austria/vienna/vienna/2022-09-11/data/listings.csv.gz\n",
    "\n",
    "This data set contains information about listed AirBnb apartments/rooms in Vienna on the 12th of October 2022. This data set was chosen as it contains location data as well as review ratings for each listed apartment/room.\n",
    "\n",
    "TODO: Describe data set in more detail\n",
    "\n",
    "### LANDESGRENZEOGD.csv\n",
    "\n",
    "Source: https://data.wien.gv.at/daten/geo?service=WFS&request=GetFeature&version=1.1.0&typeName=ogdwien:LANDESGRENZEOGD&srsName=EPSG:4326&outputFormat=csv\n",
    "\n",
    "This data set contains geolocation data about the borders of the Austrian federal states. This data set was chosen, to get the exact borders of Vienna. This was especially useful for plotting.\n",
    "\n",
    "### HALTESTELLEWLOGD.csv\n",
    "Source: https://data.wien.gv.at/daten/geo?service=WFS&request=GetFeature&version=1.1.0&typeName=ogdwien:HALTESTELLEWLOGD&srsName=EPSG:4326&outputFormat=csv\n",
    "\n",
    "This data set contains information about each of the public transport stations. This data set was chosen, as the geolocation of each transport station is contained in it.\n",
    "\n",
    "### WIENTOURISMUSOGD.csv\n",
    "Source: https://data.wien.gv.at/daten/geo?service=WFS&request=GetFeature&version=1.1.0&srsName=EPSG:4326&outputFormat=csv&typeName=ogdwien:WIENTOURISMUSOGD\n",
    "\n",
    "This data set contains information about points of interests for tourists. This data set was chosen, as it is offers a wide variety of different types of locations tourists might be interested in.\n",
    "\n",
    "TODO: Describe data set in more detail\n",
    "\n",
    "### district_to_post.csv\n",
    "\n",
    "Source: Handmade by authors of this project\n",
    "\n",
    "This data set is basically just a mapping file, which provides a conversion between the postal code and the name of viennese district. This data set was created to join the listings.csv with the other data sets.\n",
    "\n",
    "### rent_buy.csv\n",
    "Source: https://www.immopreise.at/Wien/Wohnung/Miete\n",
    "Handscrapped on 16/12/2022\n",
    "\n",
    "This data set contains information about the average rent per square metre and average price per square metre of appartements in Vienna. This data set was chosen to provide information about expenses of an AirBnb appartement.\n",
    "\n",
    "### model_data.csv\n",
    "\n",
    "Source: Created by this Jupyternotebook\n",
    "\n",
    "This data set was created out of the ones above and provides the data for the further analysis."
   ],
   "metadata": {
    "collapsed": false,
    "pycharm": {
     "name": "#%% md\n"
    }
   }
  },
  {
   "cell_type": "markdown",
   "source": [
    "## Imports\n",
    "The following libraries are used in this project. We also turned of the chained_assignment mode as this would cause problems, we avoid by reassigning the data sets instead of copying."
   ],
   "metadata": {
    "collapsed": false,
    "pycharm": {
     "name": "#%% md\n"
    }
   }
  },
  {
   "cell_type": "code",
   "execution_count": 2,
   "outputs": [],
   "source": [
    "import pandas as pd\n",
    "import geopy.distance\n",
    "import numpy as np\n",
    "from shapely.geometry import Point\n",
    "from shapely.geometry.polygon import Polygon\n",
    "import shapely.wkt\n",
    "import geopandas as gpd\n",
    "import matplotlib.pyplot as plt\n",
    "from shapely.prepared import prep\n",
    "from sklearn.linear_model import LinearRegression\n",
    "from scipy import stats\n",
    "from statsmodels.api import OLS\n",
    "pd.options.mode.chained_assignment = None"
   ],
   "metadata": {
    "collapsed": false,
    "pycharm": {
     "name": "#%%\n"
    }
   }
  },
  {
   "cell_type": "markdown",
   "source": [
    "## Data cleaning"
   ],
   "metadata": {
    "collapsed": false
   }
  },
  {
   "cell_type": "markdown",
   "source": [
    "First we load the data set, then we remove the columns we do not need for our analysis. As shown below, the data set contains multiple columns containing information about the host, this is not needed for either of the target questions. Also, the information about the source, when it was scrapped or the url of the listings are dropped. The name and the description of the individual listing are not needed either, as this tasks focus mainly on price and location. Therefore, we only keep the columns that are related to price (`price` and `accommodates` as well as `bedrooms` as these will be needed to calculate the price per person) or to the location (`neighbourhood_cleansed` and the geolocation). The other columns that are kept either contain critical information to identify the listing (`ìd`) or provide additional information that might influence the price or the review of a location, without it being dependent on the host."
   ],
   "metadata": {
    "collapsed": false,
    "pycharm": {
     "name": "#%% md\n"
    }
   }
  },
  {
   "cell_type": "code",
   "execution_count": 24,
   "outputs": [
    {
     "data": {
      "text/plain": "Index(['id', 'listing_url', 'scrape_id', 'last_scraped', 'source', 'name',\n       'description', 'neighborhood_overview', 'picture_url', 'host_id',\n       'host_url', 'host_name', 'host_since', 'host_location', 'host_about',\n       'host_response_time', 'host_response_rate', 'host_acceptance_rate',\n       'host_is_superhost', 'host_thumbnail_url', 'host_picture_url',\n       'host_neighbourhood', 'host_listings_count',\n       'host_total_listings_count', 'host_verifications',\n       'host_has_profile_pic', 'host_identity_verified', 'neighbourhood',\n       'neighbourhood_cleansed', 'neighbourhood_group_cleansed', 'latitude',\n       'longitude', 'property_type', 'room_type', 'accommodates', 'bathrooms',\n       'bathrooms_text', 'bedrooms', 'beds', 'amenities', 'price',\n       'minimum_nights', 'maximum_nights', 'minimum_minimum_nights',\n       'maximum_minimum_nights', 'minimum_maximum_nights',\n       'maximum_maximum_nights', 'minimum_nights_avg_ntm',\n       'maximum_nights_avg_ntm', 'calendar_updated', 'has_availability',\n       'availability_30', 'availability_60', 'availability_90',\n       'availability_365', 'calendar_last_scraped', 'number_of_reviews',\n       'number_of_reviews_ltm', 'number_of_reviews_l30d', 'first_review',\n       'last_review', 'review_scores_rating', 'review_scores_accuracy',\n       'review_scores_cleanliness', 'review_scores_checkin',\n       'review_scores_communication', 'review_scores_location',\n       'review_scores_value', 'license', 'instant_bookable',\n       'calculated_host_listings_count',\n       'calculated_host_listings_count_entire_homes',\n       'calculated_host_listings_count_private_rooms',\n       'calculated_host_listings_count_shared_rooms', 'reviews_per_month'],\n      dtype='object')"
     },
     "execution_count": 24,
     "metadata": {},
     "output_type": "execute_result"
    }
   ],
   "source": [
    "listings = pd.read_csv(\"data/listings.csv\")\n",
    "listings.columns"
   ],
   "metadata": {
    "collapsed": false,
    "pycharm": {
     "name": "#%%\n"
    }
   }
  },
  {
   "cell_type": "code",
   "execution_count": 25,
   "outputs": [],
   "source": [
    "listings_cleaned = listings[[\"id\", \"neighbourhood_cleansed\", \"latitude\", \"longitude\", \"property_type\",\n",
    "                             \"room_type\", \"accommodates\", \"bedrooms\", \"price\",\"number_of_reviews\",\n",
    "                             \"review_scores_rating\", \"review_scores_location\", \"reviews_per_month\"]]"
   ],
   "metadata": {
    "collapsed": false,
    "pycharm": {
     "name": "#%%\n"
    }
   }
  },
  {
   "cell_type": "markdown",
   "source": [
    "In a next step we clean the `price` column of the $ sign, so we can later on cast it to numeric. Furthermore, we assign the correct data types to the columns."
   ],
   "metadata": {
    "collapsed": false,
    "pycharm": {
     "name": "#%% md\n"
    }
   }
  },
  {
   "cell_type": "code",
   "execution_count": 31,
   "outputs": [],
   "source": [
    "listings_cleaned['price'] = listings_cleaned['price'].str.extract('(\\d+)', expand=False)\n",
    "listings_cleaned[['price']] = listings_cleaned[['price']].apply(pd.to_numeric)\n",
    "# TODO Cast the other columns as well, continue the cleaning "
   ],
   "metadata": {
    "collapsed": false,
    "pycharm": {
     "name": "#%%\n"
    }
   }
  },
  {
   "cell_type": "code",
   "execution_count": null,
   "outputs": [],
   "source": [
    "listings = pd.read_csv(\"data/listings.csv\")\n",
    "listings_cleaned = listings[[\"id\", \"name\", \"neighbourhood_cleansed\", \"latitude\", \"longitude\", \"property_type\",\n",
    "                             \"room_type\", \"accommodates\", \"bedrooms\", \"price\",\"number_of_reviews\",\n",
    "                             \"review_scores_rating\", \"review_scores_location\", \"reviews_per_month\"]]\n",
    "listings_cleaned = listings_cleaned.dropna()\n",
    "listings_cleaned[['price']] = listings_cleaned[['price']].apply(pd.to_numeric)\n",
    "listings_cleaned[['accommodates']] = listings_cleaned[['accommodates']].apply(pd.to_numeric)\n",
    "listings_cleaned['price_per_person'] = listings_cleaned['price']/listings_cleaned['accommodates']"
   ],
   "metadata": {
    "collapsed": false,
    "pycharm": {
     "name": "#%%\n"
    }
   }
  }
 ],
 "metadata": {
  "kernelspec": {
   "display_name": "Python 3",
   "language": "python",
   "name": "python3"
  },
  "language_info": {
   "codemirror_mode": {
    "name": "ipython",
    "version": 2
   },
   "file_extension": ".py",
   "mimetype": "text/x-python",
   "name": "python",
   "nbconvert_exporter": "python",
   "pygments_lexer": "ipython2",
   "version": "2.7.6"
  }
 },
 "nbformat": 4,
 "nbformat_minor": 0
}